{
 "cells": [
  {
   "cell_type": "code",
   "execution_count": 1,
   "id": "191cd2f4-7320-4203-a85c-14f36705442c",
   "metadata": {},
   "outputs": [
    {
     "name": "stderr",
     "output_type": "stream",
     "text": [
      "c:\\python\\python37\\lib\\site-packages\\requests\\__init__.py:91: RequestsDependencyWarning: urllib3 (1.26.8) or chardet (3.0.4) doesn't match a supported version!\n",
      "  RequestsDependencyWarning)\n"
     ]
    }
   ],
   "source": [
    "from tqdm import tqdm\n",
    "import os\n",
    "import re\n",
    "\n",
    "import pandas as pd\n",
    "import numpy as np\n",
    "import random\n",
    "\n",
    "import matplotlib.pyplot as plt\n",
    "import seaborn as sns\n",
    "\n",
    "from nltk.stem import WordNetLemmatizer\n",
    "from nltk.corpus import stopwords\n",
    "from sklearn.feature_extraction.text import CountVectorizer\n",
    "from gensim.models import Word2Vec\n",
    "from keras.preprocessing.text import Tokenizer\n",
    "from tensorflow.keras.preprocessing.sequence import pad_sequences\n",
    "from tensorflow.keras.layers import Dense, Flatten, Embedding, LSTM, GRU\n",
    "from tensorflow.keras.models import Sequential\n",
    "from keras.utils import to_categorical\n",
    "from sklearn.model_selection import train_test_split\n",
    "from sklearn.metrics.pairwise import cosine_similarity\n",
    "from sklearn.feature_extraction.text import TfidfVectorizer\n",
    "\n",
    "from time import sleep, time\n",
    "\n",
    "from bs4 import BeautifulSoup as bs\n",
    "import requests\n",
    "from selenium import webdriver\n",
    "from selenium.webdriver.support.ui import WebDriverWait"
   ]
  },
  {
   "cell_type": "code",
   "execution_count": null,
   "id": "93c90a87-6747-4933-9cc7-65a1dc8a9276",
   "metadata": {},
   "outputs": [],
   "source": [
    "def get_job_offers_links_pracujpl(no_pages):\n",
    "    "
   ]
  },
  {
   "cell_type": "code",
   "execution_count": 84,
   "id": "4bc3be24-7aff-4dda-8331-f3dd363a9d36",
   "metadata": {
    "collapsed": true,
    "jupyter": {
     "outputs_hidden": true
    },
    "tags": []
   },
   "outputs": [
    {
     "name": "stderr",
     "output_type": "stream",
     "text": [
      "C:\\Users\\mbulk\\AppData\\Roaming\\Python\\Python37\\site-packages\\ipykernel_launcher.py:4: DeprecationWarning: executable_path has been deprecated, please pass in a Service object\n",
      "  after removing the cwd from sys.path.\n",
      "C:\\Users\\mbulk\\AppData\\Roaming\\Python\\Python37\\site-packages\\ipykernel_launcher.py:16: DeprecationWarning: find_element_by_css_selector is deprecated. Please use find_element(by=By.CSS_SELECTOR, value=css_selector) instead\n",
      "  app.launch_new_instance()\n",
      "C:\\Users\\mbulk\\AppData\\Roaming\\Python\\Python37\\site-packages\\ipykernel_launcher.py:20: DeprecationWarning: find_elements_by_css_selector is deprecated. Please use find_elements(by=By.CSS_SELECTOR, value=css_selector) instead\n"
     ]
    },
    {
     "name": "stdout",
     "output_type": "stream",
     "text": [
      "clicking\n"
     ]
    },
    {
     "ename": "ElementClickInterceptedException",
     "evalue": "Message: element click intercepted: Element <button class=\"offer__click-area\"></button> is not clickable at point (456, 795). Other element would receive the click: <li class=\"offer-labels__item offer-labels__item--location offer-labels__item--expand-trigger\" data-test=\"list-item-offer-location\">...</li>\n  (Session info: chrome=99.0.4844.51)\nStacktrace:\nBacktrace:\n\tOrdinal0 [0x00B669A3+2582947]\n\tOrdinal0 [0x00AFA6D1+2139857]\n\tOrdinal0 [0x009F3A98+1063576]\n\tOrdinal0 [0x00A2636F+1270639]\n\tOrdinal0 [0x00A245B7+1263031]\n\tOrdinal0 [0x00A2220B+1253899]\n\tOrdinal0 [0x00A20FF9+1249273]\n\tOrdinal0 [0x00A16B53+1207123]\n\tOrdinal0 [0x00A3854C+1344844]\n\tOrdinal0 [0x00A16524+1205540]\n\tOrdinal0 [0x00A386A4+1345188]\n\tOrdinal0 [0x00A4834A+1409866]\n\tOrdinal0 [0x00A38366+1344358]\n\tOrdinal0 [0x00A15176+1200502]\n\tOrdinal0 [0x00A16066+1204326]\n\tGetHandleVerifier [0x00D0BE02+1675858]\n\tGetHandleVerifier [0x00DC036C+2414524]\n\tGetHandleVerifier [0x00BFBB01+560977]\n\tGetHandleVerifier [0x00BFA8D3+556323]\n\tOrdinal0 [0x00B0020E+2163214]\n\tOrdinal0 [0x00B05078+2183288]\n\tOrdinal0 [0x00B051C0+2183616]\n\tOrdinal0 [0x00B0EE1C+2223644]\n\tBaseThreadInitThunk [0x767BFA29+25]\n\tRtlGetAppContainerNamedObjectPath [0x77007A7E+286]\n\tRtlGetAppContainerNamedObjectPath [0x77007A4E+238]\n",
     "output_type": "error",
     "traceback": [
      "\u001b[1;31m---------------------------------------------------------------------------\u001b[0m",
      "\u001b[1;31mElementClickInterceptedException\u001b[0m          Traceback (most recent call last)",
      "\u001b[1;32m~\\AppData\\Local\\Temp/ipykernel_13912/1382745479.py\u001b[0m in \u001b[0;36m<module>\u001b[1;34m\u001b[0m\n\u001b[0;32m     23\u001b[0m     \u001b[1;32mfor\u001b[0m \u001b[0moffer\u001b[0m \u001b[1;32min\u001b[0m \u001b[0moffers_to_click\u001b[0m\u001b[1;33m:\u001b[0m\u001b[1;33m\u001b[0m\u001b[1;33m\u001b[0m\u001b[0m\n\u001b[0;32m     24\u001b[0m         \u001b[0mprint\u001b[0m\u001b[1;33m(\u001b[0m\u001b[1;34m'clicking'\u001b[0m\u001b[1;33m)\u001b[0m\u001b[1;33m\u001b[0m\u001b[1;33m\u001b[0m\u001b[0m\n\u001b[1;32m---> 25\u001b[1;33m         \u001b[0moffer\u001b[0m\u001b[1;33m.\u001b[0m\u001b[0mfind_element_by_xpath\u001b[0m\u001b[1;33m(\u001b[0m\u001b[1;34m\"//button[@class = 'offer__click-area']\"\u001b[0m\u001b[1;33m)\u001b[0m\u001b[1;33m.\u001b[0m\u001b[0mclick\u001b[0m\u001b[1;33m(\u001b[0m\u001b[1;33m)\u001b[0m\u001b[1;33m\u001b[0m\u001b[1;33m\u001b[0m\u001b[0m\n\u001b[0m\u001b[0;32m     26\u001b[0m         \u001b[1;31m# element = offer.find_element_by_xpath(\"//button[@class = 'offer__click-area']\")\u001b[0m\u001b[1;33m\u001b[0m\u001b[1;33m\u001b[0m\u001b[1;33m\u001b[0m\u001b[0m\n\u001b[0;32m     27\u001b[0m         \u001b[1;31m# driver.execute_script(\"arguments[0].click();\", element)\u001b[0m\u001b[1;33m\u001b[0m\u001b[1;33m\u001b[0m\u001b[1;33m\u001b[0m\u001b[0m\n",
      "\u001b[1;32mc:\\python\\python37\\lib\\site-packages\\selenium\\webdriver\\remote\\webelement.py\u001b[0m in \u001b[0;36mclick\u001b[1;34m(self)\u001b[0m\n\u001b[0;32m     79\u001b[0m     \u001b[1;32mdef\u001b[0m \u001b[0mclick\u001b[0m\u001b[1;33m(\u001b[0m\u001b[0mself\u001b[0m\u001b[1;33m)\u001b[0m \u001b[1;33m->\u001b[0m \u001b[1;32mNone\u001b[0m\u001b[1;33m:\u001b[0m\u001b[1;33m\u001b[0m\u001b[1;33m\u001b[0m\u001b[0m\n\u001b[0;32m     80\u001b[0m         \u001b[1;34m\"\"\"Clicks the element.\"\"\"\u001b[0m\u001b[1;33m\u001b[0m\u001b[1;33m\u001b[0m\u001b[0m\n\u001b[1;32m---> 81\u001b[1;33m         \u001b[0mself\u001b[0m\u001b[1;33m.\u001b[0m\u001b[0m_execute\u001b[0m\u001b[1;33m(\u001b[0m\u001b[0mCommand\u001b[0m\u001b[1;33m.\u001b[0m\u001b[0mCLICK_ELEMENT\u001b[0m\u001b[1;33m)\u001b[0m\u001b[1;33m\u001b[0m\u001b[1;33m\u001b[0m\u001b[0m\n\u001b[0m\u001b[0;32m     82\u001b[0m \u001b[1;33m\u001b[0m\u001b[0m\n\u001b[0;32m     83\u001b[0m     \u001b[1;32mdef\u001b[0m \u001b[0msubmit\u001b[0m\u001b[1;33m(\u001b[0m\u001b[0mself\u001b[0m\u001b[1;33m)\u001b[0m\u001b[1;33m:\u001b[0m\u001b[1;33m\u001b[0m\u001b[1;33m\u001b[0m\u001b[0m\n",
      "\u001b[1;32mc:\\python\\python37\\lib\\site-packages\\selenium\\webdriver\\remote\\webelement.py\u001b[0m in \u001b[0;36m_execute\u001b[1;34m(self, command, params)\u001b[0m\n\u001b[0;32m    708\u001b[0m             \u001b[0mparams\u001b[0m \u001b[1;33m=\u001b[0m \u001b[1;33m{\u001b[0m\u001b[1;33m}\u001b[0m\u001b[1;33m\u001b[0m\u001b[1;33m\u001b[0m\u001b[0m\n\u001b[0;32m    709\u001b[0m         \u001b[0mparams\u001b[0m\u001b[1;33m[\u001b[0m\u001b[1;34m'id'\u001b[0m\u001b[1;33m]\u001b[0m \u001b[1;33m=\u001b[0m \u001b[0mself\u001b[0m\u001b[1;33m.\u001b[0m\u001b[0m_id\u001b[0m\u001b[1;33m\u001b[0m\u001b[1;33m\u001b[0m\u001b[0m\n\u001b[1;32m--> 710\u001b[1;33m         \u001b[1;32mreturn\u001b[0m \u001b[0mself\u001b[0m\u001b[1;33m.\u001b[0m\u001b[0m_parent\u001b[0m\u001b[1;33m.\u001b[0m\u001b[0mexecute\u001b[0m\u001b[1;33m(\u001b[0m\u001b[0mcommand\u001b[0m\u001b[1;33m,\u001b[0m \u001b[0mparams\u001b[0m\u001b[1;33m)\u001b[0m\u001b[1;33m\u001b[0m\u001b[1;33m\u001b[0m\u001b[0m\n\u001b[0m\u001b[0;32m    711\u001b[0m \u001b[1;33m\u001b[0m\u001b[0m\n\u001b[0;32m    712\u001b[0m     \u001b[1;32mdef\u001b[0m \u001b[0mfind_element\u001b[0m\u001b[1;33m(\u001b[0m\u001b[0mself\u001b[0m\u001b[1;33m,\u001b[0m \u001b[0mby\u001b[0m\u001b[1;33m=\u001b[0m\u001b[0mBy\u001b[0m\u001b[1;33m.\u001b[0m\u001b[0mID\u001b[0m\u001b[1;33m,\u001b[0m \u001b[0mvalue\u001b[0m\u001b[1;33m=\u001b[0m\u001b[1;32mNone\u001b[0m\u001b[1;33m)\u001b[0m\u001b[1;33m:\u001b[0m\u001b[1;33m\u001b[0m\u001b[1;33m\u001b[0m\u001b[0m\n",
      "\u001b[1;32mc:\\python\\python37\\lib\\site-packages\\selenium\\webdriver\\remote\\webdriver.py\u001b[0m in \u001b[0;36mexecute\u001b[1;34m(self, driver_command, params)\u001b[0m\n\u001b[0;32m    423\u001b[0m         \u001b[0mresponse\u001b[0m \u001b[1;33m=\u001b[0m \u001b[0mself\u001b[0m\u001b[1;33m.\u001b[0m\u001b[0mcommand_executor\u001b[0m\u001b[1;33m.\u001b[0m\u001b[0mexecute\u001b[0m\u001b[1;33m(\u001b[0m\u001b[0mdriver_command\u001b[0m\u001b[1;33m,\u001b[0m \u001b[0mparams\u001b[0m\u001b[1;33m)\u001b[0m\u001b[1;33m\u001b[0m\u001b[1;33m\u001b[0m\u001b[0m\n\u001b[0;32m    424\u001b[0m         \u001b[1;32mif\u001b[0m \u001b[0mresponse\u001b[0m\u001b[1;33m:\u001b[0m\u001b[1;33m\u001b[0m\u001b[1;33m\u001b[0m\u001b[0m\n\u001b[1;32m--> 425\u001b[1;33m             \u001b[0mself\u001b[0m\u001b[1;33m.\u001b[0m\u001b[0merror_handler\u001b[0m\u001b[1;33m.\u001b[0m\u001b[0mcheck_response\u001b[0m\u001b[1;33m(\u001b[0m\u001b[0mresponse\u001b[0m\u001b[1;33m)\u001b[0m\u001b[1;33m\u001b[0m\u001b[1;33m\u001b[0m\u001b[0m\n\u001b[0m\u001b[0;32m    426\u001b[0m             response['value'] = self._unwrap_value(\n\u001b[0;32m    427\u001b[0m                 response.get('value', None))\n",
      "\u001b[1;32mc:\\python\\python37\\lib\\site-packages\\selenium\\webdriver\\remote\\errorhandler.py\u001b[0m in \u001b[0;36mcheck_response\u001b[1;34m(self, response)\u001b[0m\n\u001b[0;32m    245\u001b[0m                 \u001b[0malert_text\u001b[0m \u001b[1;33m=\u001b[0m \u001b[0mvalue\u001b[0m\u001b[1;33m[\u001b[0m\u001b[1;34m'alert'\u001b[0m\u001b[1;33m]\u001b[0m\u001b[1;33m.\u001b[0m\u001b[0mget\u001b[0m\u001b[1;33m(\u001b[0m\u001b[1;34m'text'\u001b[0m\u001b[1;33m)\u001b[0m\u001b[1;33m\u001b[0m\u001b[1;33m\u001b[0m\u001b[0m\n\u001b[0;32m    246\u001b[0m             \u001b[1;32mraise\u001b[0m \u001b[0mexception_class\u001b[0m\u001b[1;33m(\u001b[0m\u001b[0mmessage\u001b[0m\u001b[1;33m,\u001b[0m \u001b[0mscreen\u001b[0m\u001b[1;33m,\u001b[0m \u001b[0mstacktrace\u001b[0m\u001b[1;33m,\u001b[0m \u001b[0malert_text\u001b[0m\u001b[1;33m)\u001b[0m  \u001b[1;31m# type: ignore[call-arg]  # mypy is not smart enough here\u001b[0m\u001b[1;33m\u001b[0m\u001b[1;33m\u001b[0m\u001b[0m\n\u001b[1;32m--> 247\u001b[1;33m         \u001b[1;32mraise\u001b[0m \u001b[0mexception_class\u001b[0m\u001b[1;33m(\u001b[0m\u001b[0mmessage\u001b[0m\u001b[1;33m,\u001b[0m \u001b[0mscreen\u001b[0m\u001b[1;33m,\u001b[0m \u001b[0mstacktrace\u001b[0m\u001b[1;33m)\u001b[0m\u001b[1;33m\u001b[0m\u001b[1;33m\u001b[0m\u001b[0m\n\u001b[0m\u001b[0;32m    248\u001b[0m \u001b[1;33m\u001b[0m\u001b[0m\n\u001b[0;32m    249\u001b[0m     \u001b[1;32mdef\u001b[0m \u001b[0m_value_or_default\u001b[0m\u001b[1;33m(\u001b[0m\u001b[0mself\u001b[0m\u001b[1;33m,\u001b[0m \u001b[0mobj\u001b[0m\u001b[1;33m:\u001b[0m \u001b[0mMapping\u001b[0m\u001b[1;33m[\u001b[0m\u001b[0m_KT\u001b[0m\u001b[1;33m,\u001b[0m \u001b[0m_VT\u001b[0m\u001b[1;33m]\u001b[0m\u001b[1;33m,\u001b[0m \u001b[0mkey\u001b[0m\u001b[1;33m:\u001b[0m \u001b[0m_KT\u001b[0m\u001b[1;33m,\u001b[0m \u001b[0mdefault\u001b[0m\u001b[1;33m:\u001b[0m \u001b[0m_VT\u001b[0m\u001b[1;33m)\u001b[0m \u001b[1;33m->\u001b[0m \u001b[0m_VT\u001b[0m\u001b[1;33m:\u001b[0m\u001b[1;33m\u001b[0m\u001b[1;33m\u001b[0m\u001b[0m\n",
      "\u001b[1;31mElementClickInterceptedException\u001b[0m: Message: element click intercepted: Element <button class=\"offer__click-area\"></button> is not clickable at point (456, 795). Other element would receive the click: <li class=\"offer-labels__item offer-labels__item--location offer-labels__item--expand-trigger\" data-test=\"list-item-offer-location\">...</li>\n  (Session info: chrome=99.0.4844.51)\nStacktrace:\nBacktrace:\n\tOrdinal0 [0x00B669A3+2582947]\n\tOrdinal0 [0x00AFA6D1+2139857]\n\tOrdinal0 [0x009F3A98+1063576]\n\tOrdinal0 [0x00A2636F+1270639]\n\tOrdinal0 [0x00A245B7+1263031]\n\tOrdinal0 [0x00A2220B+1253899]\n\tOrdinal0 [0x00A20FF9+1249273]\n\tOrdinal0 [0x00A16B53+1207123]\n\tOrdinal0 [0x00A3854C+1344844]\n\tOrdinal0 [0x00A16524+1205540]\n\tOrdinal0 [0x00A386A4+1345188]\n\tOrdinal0 [0x00A4834A+1409866]\n\tOrdinal0 [0x00A38366+1344358]\n\tOrdinal0 [0x00A15176+1200502]\n\tOrdinal0 [0x00A16066+1204326]\n\tGetHandleVerifier [0x00D0BE02+1675858]\n\tGetHandleVerifier [0x00DC036C+2414524]\n\tGetHandleVerifier [0x00BFBB01+560977]\n\tGetHandleVerifier [0x00BFA8D3+556323]\n\tOrdinal0 [0x00B0020E+2163214]\n\tOrdinal0 [0x00B05078+2183288]\n\tOrdinal0 [0x00B051C0+2183616]\n\tOrdinal0 [0x00B0EE1C+2223644]\n\tBaseThreadInitThunk [0x767BFA29+25]\n\tRtlGetAppContainerNamedObjectPath [0x77007A7E+286]\n\tRtlGetAppContainerNamedObjectPath [0x77007A4E+238]\n"
     ]
    }
   ],
   "source": [
    "no_pages = 3\n",
    "\n",
    "path = 'C:\\Program Files (x86)\\chromedriver.exe'\n",
    "driver = webdriver.Chrome(path)\n",
    "\n",
    "job_links = []\n",
    "\n",
    "# for page in tqdm(range(no_pages)):\n",
    "for page in [1]:\n",
    "    # go to given page with jobs offers for data scientist, in poland, remote\n",
    "    driver.get(f'https://www.pracuj.pl/praca/data%20scientist;kw/polska;ct,1/praca%20zdalna;wm,home-office?pn={page}')\n",
    "    # wait 2 sec to load the page\n",
    "    sleep(2)\n",
    "    \n",
    "    # click to accept cookies\n",
    "    driver.find_element_by_css_selector('[data-test = \"button-accept-all-in-general\"]').click()\n",
    "    sleep(2)\n",
    "    \n",
    "    # find offers on which we need to click in order to show link\n",
    "    offers_to_click = driver.find_elements_by_css_selector('[class = \"results__list-container-item\"]')\n",
    "    sleep(2)\n",
    "    \n",
    "    for offer in offers_to_click:\n",
    "        print('clicking')\n",
    "        offer.find_element_by_xpath(\"//button[@class = 'offer__click-area']\").click()\n",
    "        # element = offer.find_element_by_xpath(\"//button[@class = 'offer__click-area']\")\n",
    "        # driver.execute_script(\"arguments[0].click();\", element)\n",
    "        sleep(2)\n",
    "        \n",
    "        # driver.get(f'https://www.pracuj.pl/praca/data%20scientist;kw/polska;ct,1/praca%20zdalna;wm,home-office?pn={page}')\n",
    "\n",
    "\n",
    "#     # scroll down the page slowly so every job offer can load\n",
    "#     page_height = driver.execute_script(\"return document.body.scrollHeight\")\n",
    "#     new_job_links = []\n",
    "\n",
    "#     for i in range(7):\n",
    "#         driver.execute_script(f\"window.scrollTo(0, {i * page_height // 7});\")\n",
    "#         # wait to load page\n",
    "#         sleep(1)\n",
    "\n",
    "#     soup = bs(driver.page_source)\n",
    "#     new_job_offers = soup.find_all(class_ = \"results__list-container-item\")\n",
    "#     new_offers_links = []\n",
    "    \n",
    "#     for new_job_offer in new_job_offers:\n",
    "#         try:\n",
    "#             new_offers_links.append(new_job_offer.a['href'])\n",
    "#         except:\n",
    "#             # click on the offer to show links\n",
    "#             driver.find_element_by_css_selector('[class = \"offer__click-area\"]').click()\n",
    "               \n",
    "#     # if not all job links are loaded then scroll page up in order to load them\n",
    "#     if len(new_job_links) < 25:\n",
    "#         for i in range(7):\n",
    "#             driver.execute_script(f\"scrollBy(0, -{i * page_height // 7});\")\n",
    "#             # wait to load page\n",
    "#             sleep(1)\n",
    "\n",
    "#     soup = bs(driver.page_source)\n",
    "#     new_job_links = soup.find_all(class_ = \"disabled ember-view job-card-container__link job-card-list__title\")\n",
    "#     new_job_links = ['https://linkedin.com' + new_job_links[i]['href'] for i in range(len(new_job_links))]\n",
    "\n",
    "#     job_links += new_job_links"
   ]
  },
  {
   "cell_type": "code",
   "execution_count": null,
   "id": "e72a3365-10fb-45d5-b9ed-d3abb2f222a1",
   "metadata": {},
   "outputs": [],
   "source": []
  },
  {
   "cell_type": "code",
   "execution_count": null,
   "id": "bc063086-620c-4cd4-80eb-fab5d16b934c",
   "metadata": {},
   "outputs": [],
   "source": []
  },
  {
   "cell_type": "code",
   "execution_count": null,
   "id": "4e415600-e677-49af-a661-cefffdeabf0a",
   "metadata": {},
   "outputs": [],
   "source": []
  },
  {
   "cell_type": "code",
   "execution_count": null,
   "id": "141e7927-d96b-4768-ae22-9586ffa37a56",
   "metadata": {},
   "outputs": [],
   "source": []
  },
  {
   "cell_type": "code",
   "execution_count": null,
   "id": "ab8e2b5b-c771-4fa3-b85c-a2d323af44c8",
   "metadata": {},
   "outputs": [],
   "source": []
  }
 ],
 "metadata": {
  "kernelspec": {
   "display_name": "Python 3 (ipykernel)",
   "language": "python",
   "name": "python3"
  },
  "language_info": {
   "codemirror_mode": {
    "name": "ipython",
    "version": 3
   },
   "file_extension": ".py",
   "mimetype": "text/x-python",
   "name": "python",
   "nbconvert_exporter": "python",
   "pygments_lexer": "ipython3",
   "version": "3.7.9"
  }
 },
 "nbformat": 4,
 "nbformat_minor": 5
}
