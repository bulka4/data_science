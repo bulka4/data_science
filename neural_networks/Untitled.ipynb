{
 "cells": [
  {
   "cell_type": "code",
   "execution_count": null,
   "id": "bba98a43-3293-45fd-bf0c-1a8d097df80a",
   "metadata": {},
   "outputs": [],
   "source": [
    "model = keras.models.Sequential()\n",
    "\n",
    "model.add(keras.layers.Conv1D(100, 10, activation='relu', input_shape=(2496, 2)))\n",
    "model.add(keras.layers.Conv1D(100, 10, activation='relu'))\n",
    "model.add(keras.layers.MaxPooling1D(3))\n",
    "\n",
    "model.add(keras.layers.GRU(int(params.get('gru0_kernel', 32)), return_sequences=True))\n",
    "model.add(keras.layers.Dropout(params.get('gru0_dropout', 0.25)))\n",
    "\n",
    "model.add(keras.layers.GlobalAveragePooling1D())\n",
    "model.add(keras.layers.Dropout(params.get('conv1_dropout', 0.5)))\n",
    "\n",
    "model.add(keras.layers.Dense(32, activation='relu'))\n",
    "\n",
    "model.add(keras.layers.Dense(params.get('num_classes', 5), activation='softmax'))\n",
    "\n",
    "model.compile(loss='categorical_crossentropy', optimizer='adam', metrics=['accuracy'])\n",
    "\n",
    "model_conv1d_I = model\n",
    "history_conv1d_I = model_conv1d_I.fit(x = x_train,\n",
    "                                        y = y_train_bin,\n",
    "                                        batch_size = 128,\n",
    "                                        epochs = 100,\n",
    "                                        validation_split = 0.2,\n",
    "                                        callbacks = [tf.keras.callbacks.EarlyStopping(monitor = 'val_loss', patience = 25)],\n",
    "                                        verbose = 1)"
   ]
  }
 ],
 "metadata": {
  "kernelspec": {
   "display_name": "Python 3 (ipykernel)",
   "language": "python",
   "name": "python3"
  },
  "language_info": {
   "codemirror_mode": {
    "name": "ipython",
    "version": 3
   },
   "file_extension": ".py",
   "mimetype": "text/x-python",
   "name": "python",
   "nbconvert_exporter": "python",
   "pygments_lexer": "ipython3",
   "version": "3.7.9"
  }
 },
 "nbformat": 4,
 "nbformat_minor": 5
}
