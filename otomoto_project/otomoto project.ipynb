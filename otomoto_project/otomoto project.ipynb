{
 "cells": [
  {
   "cell_type": "markdown",
   "metadata": {},
   "source": [
    "## Creating a data set"
   ]
  },
  {
   "cell_type": "code",
   "execution_count": 1,
   "metadata": {},
   "outputs": [],
   "source": [
    "from bs4 import BeautifulSoup as bs\n",
    "import requests\n",
    "import pandas as pd\n",
    "import numpy as np\n",
    "import seaborn as sns\n",
    "import matplotlib.pyplot as plt\n",
    "from datetime import datetime\n",
    "import math\n",
    "%matplotlib inline\n",
    "from tqdm import tqdm"
   ]
  },
  {
   "cell_type": "code",
   "execution_count": 113,
   "metadata": {},
   "outputs": [],
   "source": [
    "def change_nan(value):   #function changing nan into 0 and 'tak' into 1\n",
    "    for i in range(len(value)):\n",
    "        try:\n",
    "            if math.isnan(value[i]):\n",
    "                value[i]=0\n",
    "        except:\n",
    "            if value[i]=='Tak':\n",
    "                value[i]=1\n",
    "            elif value[i]=='tak':\n",
    "                value[i]=1  \n",
    "        \n",
    "    return value\n",
    "\n",
    "def clean_guarantee(value):\n",
    "    try:\n",
    "        return int(value.split()[0])\n",
    "    except:\n",
    "        return value\n",
    "    \n",
    "def clean_instalment(x):\n",
    "    if x=='0':\n",
    "        return int(x)\n",
    "    else:\n",
    "        return int(''.join(x.split()[:-1]))\n",
    "    \n",
    "def change_price(x):\n",
    "    try:\n",
    "        cena = ''.join(x.split('PLN')[0].split())\n",
    "        cena = ''.join(cena.split(',')[0].split())\n",
    "        return int(cena)\n",
    "    except:\n",
    "        cena = 0\n",
    "        return int(cena)\n",
    "    \n",
    "def change_date(x): #change string into datetime object\n",
    "    try:\n",
    "        if math.isnan(x):\n",
    "            return 0\n",
    "    except:\n",
    "        pass\n",
    "    if x=='0':\n",
    "        return int(x)\n",
    "    elif x==0:\n",
    "        return x\n",
    "    else:\n",
    "        x=x.split()[0]\n",
    "        return datetime.strptime(x, '%d/%m/%Y')\n",
    "    \n",
    "def guarantee_left(x): #how many months of guarantee left\n",
    "    if x==0:\n",
    "        return 0\n",
    "    if x.year>datetime.now().year:\n",
    "        time_left= (12-datetime.now().month)+(x.year-datetime.now().year-1)*12+x.month\n",
    "        if time_left<0:\n",
    "            return 0\n",
    "        else:\n",
    "            return time_left\n",
    "    else:\n",
    "        time_left=x.month-datetime.now().month\n",
    "        if time_left<0:\n",
    "            return 0\n",
    "        else:\n",
    "            return time_left"
   ]
  },
  {
   "cell_type": "code",
   "execution_count": 5,
   "metadata": {},
   "outputs": [],
   "source": [
    "# getting info about one car\n",
    "def get_info2(url):\n",
    "    try:\n",
    "        car_info={}\n",
    "        soup=bs(requests.get(url).content)\n",
    "        car_info['price']=soup.find(class_='offer-price__number').get_text(strip=True)\n",
    "        parameters=soup.find(class_='parametersArea').find_all('li')\n",
    "        for i in range(len(parameters)):\n",
    "            try:\n",
    "                key=parameters[i].find(class_='offer-params__label').get_text(strip=True)\n",
    "                value=parameters[i].find(class_='offer-params__value').get_text(strip=True)\n",
    "                car_info[key]=value\n",
    "            except:\n",
    "                continue\n",
    "        \n",
    "        #features=soup.find(class_='offer-features').find_all('li')\n",
    "        #car_info['num of features']=len(features)\n",
    "        \n",
    "        return car_info\n",
    "    except:\n",
    "        pass"
   ]
  },
  {
   "cell_type": "code",
   "execution_count": null,
   "metadata": {},
   "outputs": [],
   "source": [
    "df = pd.DataFrame()"
   ]
  },
  {
   "cell_type": "code",
   "execution_count": 63,
   "metadata": {},
   "outputs": [
    {
     "name": "stderr",
     "output_type": "stream",
     "text": [
      "  0%|          | 0/6 [00:00<?, ?it/s]\n",
      "  0%|          | 0/3 [00:00<?, ?it/s]\u001b[A\n",
      " 33%|███▎      | 1/3 [00:04<00:08,  4.44s/it]\u001b[A\n",
      " 67%|██████▋   | 2/3 [00:20<00:07,  7.89s/it]\u001b[A\n",
      "100%|██████████| 3/3 [00:36<00:00, 12.24s/it]\u001b[A\n",
      " 17%|█▋        | 1/6 [00:36<03:03, 36.71s/it]\n",
      "  0%|          | 0/3 [00:00<?, ?it/s]\u001b[A\n",
      " 33%|███▎      | 1/3 [00:13<00:26, 13.12s/it]\u001b[A\n",
      " 67%|██████▋   | 2/3 [00:29<00:13, 13.97s/it]\u001b[A\n",
      "100%|██████████| 3/3 [00:45<00:00, 15.21s/it]\u001b[A\n",
      " 33%|███▎      | 2/6 [01:22<02:37, 39.38s/it]\n",
      "  0%|          | 0/3 [00:00<?, ?it/s]\u001b[A\n",
      " 33%|███▎      | 1/3 [00:16<00:32, 16.46s/it]\u001b[A\n",
      " 67%|██████▋   | 2/3 [00:24<00:14, 14.01s/it]\u001b[A\n",
      "100%|██████████| 3/3 [00:40<00:00, 13.46s/it]\u001b[A\n",
      " 50%|█████     | 3/6 [02:02<01:59, 39.69s/it]\n",
      "  0%|          | 0/3 [00:00<?, ?it/s]\u001b[A\n",
      " 33%|███▎      | 1/3 [00:16<00:33, 16.95s/it]\u001b[A\n",
      " 67%|██████▋   | 2/3 [00:33<00:16, 16.89s/it]\u001b[A\n",
      "100%|██████████| 3/3 [00:39<00:00, 13.17s/it]\u001b[A\n",
      " 67%|██████▋   | 4/6 [02:42<01:19, 39.64s/it]\n",
      "  0%|          | 0/3 [00:00<?, ?it/s]\u001b[A\n",
      " 33%|███▎      | 1/3 [00:16<00:33, 16.91s/it]\u001b[A\n",
      " 67%|██████▋   | 2/3 [00:32<00:16, 16.62s/it]\u001b[A\n",
      "100%|██████████| 3/3 [00:37<00:00, 12.51s/it]\u001b[A\n",
      " 83%|████████▎ | 5/6 [03:19<00:39, 39.01s/it]\n",
      "  0%|          | 0/3 [00:00<?, ?it/s]\u001b[A\n",
      " 33%|███▎      | 1/3 [00:16<00:33, 16.93s/it]\u001b[A\n",
      " 67%|██████▋   | 2/3 [00:34<00:17, 17.06s/it]\u001b[A\n",
      "100%|██████████| 3/3 [00:43<00:00, 14.64s/it]\u001b[A\n",
      "100%|██████████| 6/6 [04:03<00:00, 40.62s/it]\n"
     ]
    }
   ],
   "source": [
    "#creating list of directories about cars\n",
    "list_of_cars=[]\n",
    "for k in tqdm([15, 16, 17, 18, 19, 20]): # k is year of production\n",
    "    for j in tqdm(range(3)):      # j is a number of page\n",
    "        soup=bs(requests.get('https://www.otomoto.pl/osobowe/mercedes-benz/glc-klasa/od-20{}'.format(k) + '/?search%5Bfilter_float_year%3Ato%5D=20{}'.format(k) + '&search%5Bfilter_enum_damaged%5D=0&search%5Border%5D=filter_float_price%3Aasc&search%5Bbrand_program_id%5D%5B0%5D=&search%5Bcountry%5D=&page={}'.format(j + 1)).content)\n",
    "        offers_lst=soup.find(class_='offers list').find_all(class_='offer-item__title')\n",
    "        for i in range(len(offers_lst)):\n",
    "            link=offers_lst[i].a['href']\n",
    "            list_of_cars.append(get_info2(link))"
   ]
  },
  {
   "cell_type": "code",
   "execution_count": 65,
   "metadata": {},
   "outputs": [],
   "source": [
    "#removing None objects in list_of_cars\n",
    "length=len(list_of_cars)\n",
    "for i in range(length):\n",
    "    if list_of_cars[i]==None:\n",
    "        list_of_cars.remove(list_of_cars[i])\n",
    "        length=len(list_of_cars)"
   ]
  },
  {
   "cell_type": "code",
   "execution_count": 66,
   "metadata": {},
   "outputs": [],
   "source": [
    "#creating a data frame\n",
    "df = pd.concat((df, pd.DataFrame(list_of_cars)), axis = 0)\n",
    "df = df.reset_index(drop = True)"
   ]
  },
  {
   "cell_type": "code",
   "execution_count": null,
   "metadata": {},
   "outputs": [],
   "source": [
    "df['price'] = df['price'].apply(change_price)\n",
    "df.drop(df[df['price'] == 0].index, axis =0, inplace = True)"
   ]
  },
  {
   "cell_type": "code",
   "execution_count": 89,
   "metadata": {},
   "outputs": [],
   "source": [
    "df.to_csv('samochody')"
   ]
  },
  {
   "cell_type": "markdown",
   "metadata": {},
   "source": [
    "## analiza samochodow do kupienia"
   ]
  },
  {
   "cell_type": "code",
   "execution_count": 119,
   "metadata": {},
   "outputs": [],
   "source": [
    "df = pd.read_csv('samochody')\n",
    "df.drop(df.columns[0], axis = 1, inplace = True)"
   ]
  },
  {
   "cell_type": "code",
   "execution_count": 87,
   "metadata": {},
   "outputs": [
    {
     "data": {
      "text/plain": [
       "Index(['price', 'Oferta od', 'Kategoria', 'Marka pojazdu', 'Model pojazdu',\n",
       "       'Generacja', 'Rok produkcji', 'Przebieg', 'Pojemność skokowa',\n",
       "       'Rodzaj paliwa', 'Moc', 'Skrzynia biegów', 'Napęd',\n",
       "       'Filtr cząstek stałych', 'Typ'],\n",
       "      dtype='object')"
      ]
     },
     "execution_count": 87,
     "metadata": {},
     "output_type": "execute_result"
    }
   ],
   "source": [
    "columns = df.columns[:15]\n",
    "columns"
   ]
  },
  {
   "cell_type": "code",
   "execution_count": 121,
   "metadata": {},
   "outputs": [],
   "source": [
    "df['price'] = df['price'].apply(change_price)\n",
    "df.drop(df[df['price'] == 0].index, axis = 0, inplace = True)"
   ]
  },
  {
   "cell_type": "code",
   "execution_count": 130,
   "metadata": {},
   "outputs": [],
   "source": [
    "df = df[columns]"
   ]
  },
  {
   "cell_type": "code",
   "execution_count": 209,
   "metadata": {},
   "outputs": [
    {
     "data": {
      "text/html": [
       "<div>\n",
       "<style scoped>\n",
       "    .dataframe tbody tr th:only-of-type {\n",
       "        vertical-align: middle;\n",
       "    }\n",
       "\n",
       "    .dataframe tbody tr th {\n",
       "        vertical-align: top;\n",
       "    }\n",
       "\n",
       "    .dataframe thead th {\n",
       "        text-align: right;\n",
       "    }\n",
       "</style>\n",
       "<table border=\"1\" class=\"dataframe\">\n",
       "  <thead>\n",
       "    <tr style=\"text-align: right;\">\n",
       "      <th></th>\n",
       "      <th>price</th>\n",
       "      <th>Oferta od</th>\n",
       "      <th>Kategoria</th>\n",
       "      <th>Marka pojazdu</th>\n",
       "      <th>Model pojazdu</th>\n",
       "      <th>Generacja</th>\n",
       "      <th>Rok produkcji</th>\n",
       "      <th>Przebieg</th>\n",
       "      <th>Pojemność skokowa</th>\n",
       "      <th>Rodzaj paliwa</th>\n",
       "      <th>Moc</th>\n",
       "      <th>Skrzynia biegów</th>\n",
       "      <th>Napęd</th>\n",
       "      <th>Filtr cząstek stałych</th>\n",
       "      <th>Typ</th>\n",
       "    </tr>\n",
       "  </thead>\n",
       "  <tbody>\n",
       "    <tr>\n",
       "      <th>0</th>\n",
       "      <td>63999</td>\n",
       "      <td>Firmy</td>\n",
       "      <td>Osobowe</td>\n",
       "      <td>Audi</td>\n",
       "      <td>A6</td>\n",
       "      <td>C7 (2011-2018)</td>\n",
       "      <td>2015</td>\n",
       "      <td>229 000 km</td>\n",
       "      <td>1 968 cm3</td>\n",
       "      <td>Diesel</td>\n",
       "      <td>190 KM</td>\n",
       "      <td>Manualna</td>\n",
       "      <td>Na przednie koła</td>\n",
       "      <td>Tak</td>\n",
       "      <td>Kombi</td>\n",
       "    </tr>\n",
       "    <tr>\n",
       "      <th>1</th>\n",
       "      <td>64900</td>\n",
       "      <td>Firmy</td>\n",
       "      <td>Osobowe</td>\n",
       "      <td>Audi</td>\n",
       "      <td>A6</td>\n",
       "      <td>C7 (2011-2018)</td>\n",
       "      <td>2015</td>\n",
       "      <td>44 000 km</td>\n",
       "      <td>1 984 cm3</td>\n",
       "      <td>Benzyna</td>\n",
       "      <td>252 KM</td>\n",
       "      <td>Automatyczna</td>\n",
       "      <td>4x4 (stały)</td>\n",
       "      <td>NaN</td>\n",
       "      <td>Sedan</td>\n",
       "    </tr>\n",
       "    <tr>\n",
       "      <th>2</th>\n",
       "      <td>66900</td>\n",
       "      <td>Firmy</td>\n",
       "      <td>Osobowe</td>\n",
       "      <td>Audi</td>\n",
       "      <td>A6</td>\n",
       "      <td>C7 (2011-2018)</td>\n",
       "      <td>2015</td>\n",
       "      <td>271 000 km</td>\n",
       "      <td>2 000 cm3</td>\n",
       "      <td>Diesel</td>\n",
       "      <td>190 KM</td>\n",
       "      <td>Automatyczna</td>\n",
       "      <td>Na przednie koła</td>\n",
       "      <td>NaN</td>\n",
       "      <td>Kombi</td>\n",
       "    </tr>\n",
       "    <tr>\n",
       "      <th>3</th>\n",
       "      <td>68000</td>\n",
       "      <td>Osoby prywatnej</td>\n",
       "      <td>Osobowe</td>\n",
       "      <td>Audi</td>\n",
       "      <td>A6</td>\n",
       "      <td>C7 (2011-2018)</td>\n",
       "      <td>2015</td>\n",
       "      <td>139 521 km</td>\n",
       "      <td>2 000 cm3</td>\n",
       "      <td>Diesel</td>\n",
       "      <td>190 KM</td>\n",
       "      <td>Manualna</td>\n",
       "      <td>Na przednie koła</td>\n",
       "      <td>Tak</td>\n",
       "      <td>Kombi</td>\n",
       "    </tr>\n",
       "    <tr>\n",
       "      <th>4</th>\n",
       "      <td>68900</td>\n",
       "      <td>Firmy</td>\n",
       "      <td>Osobowe</td>\n",
       "      <td>Audi</td>\n",
       "      <td>A6</td>\n",
       "      <td>C7 (2011-2018)</td>\n",
       "      <td>2015</td>\n",
       "      <td>161 000 km</td>\n",
       "      <td>1 968 cm3</td>\n",
       "      <td>Diesel</td>\n",
       "      <td>150 KM</td>\n",
       "      <td>Manualna</td>\n",
       "      <td>Na przednie koła</td>\n",
       "      <td>NaN</td>\n",
       "      <td>Kombi</td>\n",
       "    </tr>\n",
       "  </tbody>\n",
       "</table>\n",
       "</div>"
      ],
      "text/plain": [
       "   price        Oferta od Kategoria Marka pojazdu Model pojazdu  \\\n",
       "0  63999            Firmy   Osobowe          Audi            A6   \n",
       "1  64900            Firmy   Osobowe          Audi            A6   \n",
       "2  66900            Firmy   Osobowe          Audi            A6   \n",
       "3  68000  Osoby prywatnej   Osobowe          Audi            A6   \n",
       "4  68900            Firmy   Osobowe          Audi            A6   \n",
       "\n",
       "        Generacja  Rok produkcji    Przebieg Pojemność skokowa Rodzaj paliwa  \\\n",
       "0  C7 (2011-2018)           2015  229 000 km         1 968 cm3        Diesel   \n",
       "1  C7 (2011-2018)           2015   44 000 km         1 984 cm3       Benzyna   \n",
       "2  C7 (2011-2018)           2015  271 000 km         2 000 cm3        Diesel   \n",
       "3  C7 (2011-2018)           2015  139 521 km         2 000 cm3        Diesel   \n",
       "4  C7 (2011-2018)           2015  161 000 km         1 968 cm3        Diesel   \n",
       "\n",
       "      Moc Skrzynia biegów             Napęd Filtr cząstek stałych    Typ  \n",
       "0  190 KM        Manualna  Na przednie koła                   Tak  Kombi  \n",
       "1  252 KM    Automatyczna       4x4 (stały)                   NaN  Sedan  \n",
       "2  190 KM    Automatyczna  Na przednie koła                   NaN  Kombi  \n",
       "3  190 KM        Manualna  Na przednie koła                   Tak  Kombi  \n",
       "4  150 KM        Manualna  Na przednie koła                   NaN  Kombi  "
      ]
     },
     "execution_count": 209,
     "metadata": {},
     "output_type": "execute_result"
    }
   ],
   "source": [
    "df.head()"
   ]
  },
  {
   "cell_type": "code",
   "execution_count": 199,
   "metadata": {},
   "outputs": [
    {
     "data": {
      "image/png": "[encoded data removed]",
      "text/plain": [
       "<Figure size 720x432 with 1 Axes>"
      ]
     },
     "metadata": {
      "needs_background": "light"
     },
     "output_type": "display_data"
    }
   ],
   "source": [
    "fig, axes = plt.subplots(figsize = (10, 6))\n",
    "    \n",
    "x = np.arange(2015, 2021)\n",
    "df1 = df[df['Model pojazdu'] == 'A6']\n",
    "sns.boxplot(x = 'Rok produkcji', y = 'price', data = df1)\n",
    "axes.set_title('A6')\n",
    "plt.tight_layout()"
   ]
  },
  {
   "cell_type": "code",
   "execution_count": 212,
   "metadata": {},
   "outputs": [
    {
     "data": {
      "image/png": "[encoded data removed]",
      "text/plain": [
       "<Figure size 720x432 with 1 Axes>"
      ]
     },
     "metadata": {
      "needs_background": "light"
     },
     "output_type": "display_data"
    }
   ],
   "source": [
    "fig, axes = plt.subplots(figsize = (10, 6))\n",
    "    \n",
    "x = np.arange(2015, 2021)\n",
    "df1 = df[(df['Model pojazdu'] == 'A6') & (df['Generacja'] == 'C8 (2018-)')]\n",
    "sns.boxplot(x = 'Rok produkcji', y = 'price', data = df1)\n",
    "axes.set_title('A6- najnowsza generacja')\n",
    "plt.tight_layout()"
   ]
  },
  {
   "cell_type": "code",
   "execution_count": 223,
   "metadata": {},
   "outputs": [
    {
     "data": {
      "text/plain": [
       "135268.0"
      ]
     },
     "execution_count": 223,
     "metadata": {},
     "output_type": "execute_result"
    }
   ],
   "source": [
    "np.percentile(df[(df['Model pojazdu'] == 'A6') & (df['Generacja'] == 'C8 (2018-)') & (df['Rok produkcji'] == 2018)]['price'], 30)"
   ]
  },
  {
   "cell_type": "code",
   "execution_count": 226,
   "metadata": {},
   "outputs": [
    {
     "data": {
      "text/plain": [
       "96"
      ]
     },
     "execution_count": 226,
     "metadata": {},
     "output_type": "execute_result"
    }
   ],
   "source": [
    "len(df[(df['Model pojazdu'] == 'A6') & (df['Rok produkcji'] == 2018)])"
   ]
  },
  {
   "cell_type": "code",
   "execution_count": 228,
   "metadata": {},
   "outputs": [
    {
     "data": {
      "text/plain": [
       "15"
      ]
     },
     "execution_count": 228,
     "metadata": {},
     "output_type": "execute_result"
    }
   ],
   "source": [
    "len((df[(df['Model pojazdu'] == 'A6') & (df['Generacja'] == 'C8 (2018-)') & (df['Rok produkcji'] == 2018)]))"
   ]
  },
  {
   "cell_type": "code",
   "execution_count": 200,
   "metadata": {},
   "outputs": [
    {
     "data": {
      "image/png": "[encoded data removed]",
      "text/plain": [
       "<Figure size 720x432 with 1 Axes>"
      ]
     },
     "metadata": {
      "needs_background": "light"
     },
     "output_type": "display_data"
    }
   ],
   "source": [
    "fig, axes = plt.subplots(figsize = (10, 6))\n",
    "    \n",
    "x = np.arange(2015, 2021)\n",
    "df1 = df[df['Model pojazdu'] == 'Q5']\n",
    "sns.boxplot(x = 'Rok produkcji', y = 'price', data = df1)\n",
    "axes.set_title('Q5')\n",
    "plt.tight_layout()"
   ]
  },
  {
   "cell_type": "code",
   "execution_count": 230,
   "metadata": {},
   "outputs": [
    {
     "data": {
      "image/png": "[encoded data removed]",
      "text/plain": [
       "<Figure size 720x432 with 1 Axes>"
      ]
     },
     "metadata": {
      "needs_background": "light"
     },
     "output_type": "display_data"
    }
   ],
   "source": [
    "fig, axes = plt.subplots(figsize = (10, 6))\n",
    "    \n",
    "x = np.arange(2015, 2021)\n",
    "df1 = df[df['Model pojazdu'] == 'GLC']\n",
    "sns.boxplot(x = 'Rok produkcji', y = 'price', data = df1)\n",
    "axes.set_title('GLC')\n",
    "plt.tight_layout()"
   ]
  },
  {
   "cell_type": "code",
   "execution_count": 229,
   "metadata": {},
   "outputs": [
    {
     "data": {
      "image/png": "[encoded data removed]",
      "text/plain": [
       "<Figure size 720x432 with 1 Axes>"
      ]
     },
     "metadata": {
      "needs_background": "light"
     },
     "output_type": "display_data"
    }
   ],
   "source": [
    "fig, axes = plt.subplots(figsize = (10, 6))\n",
    "    \n",
    "x = np.arange(2015, 2021)\n",
    "df1 = df[df['Model pojazdu'] == 'A4']\n",
    "sns.boxplot(x = 'Rok produkcji', y = 'price', data = df1)\n",
    "axes.set_title('A4')\n",
    "plt.tight_layout()"
   ]
  },
  {
   "cell_type": "code",
   "execution_count": 201,
   "metadata": {},
   "outputs": [
    {
     "data": {
      "image/png": "[encoded data removed]",
      "text/plain": [
       "<Figure size 720x432 with 1 Axes>"
      ]
     },
     "metadata": {
      "needs_background": "light"
     },
     "output_type": "display_data"
    }
   ],
   "source": [
    "fig, axes = plt.subplots(figsize = (10, 6))\n",
    "    \n",
    "x = np.arange(2015, 2021)\n",
    "df1 = df[df['Model pojazdu'] == 'Klasa C']\n",
    "sns.boxplot(x = 'Rok produkcji', y = 'price', data = df1)\n",
    "axes.set_title('Klasa C')\n",
    "plt.tight_layout()"
   ]
  },
  {
   "cell_type": "code",
   "execution_count": 203,
   "metadata": {},
   "outputs": [
    {
     "data": {
      "image/png": "[encoded data removed]",
      "text/plain": [
       "<Figure size 720x432 with 1 Axes>"
      ]
     },
     "metadata": {
      "needs_background": "light"
     },
     "output_type": "display_data"
    }
   ],
   "source": [
    "fig, axes = plt.subplots(figsize = (10, 6))\n",
    "    \n",
    "x = np.arange(2015, 2021)\n",
    "df1 = df[df['Model pojazdu'] == 'Klasa E']\n",
    "sns.boxplot(x = 'Rok produkcji', y = 'price', data = df1)\n",
    "axes.set_title('Klasa E')\n",
    "plt.tight_layout()"
   ]
  },
  {
   "cell_type": "code",
   "execution_count": 208,
   "metadata": {},
   "outputs": [
    {
     "data": {
      "text/plain": [
       "44"
      ]
     },
     "execution_count": 208,
     "metadata": {},
     "output_type": "execute_result"
    }
   ],
   "source": [
    "len(df[(df['Model pojazdu'] == 'Klasa C') & (df['Rok produkcji'] == 2020)])"
   ]
  },
  {
   "cell_type": "code",
   "execution_count": null,
   "metadata": {},
   "outputs": [],
   "source": []
  },
  {
   "cell_type": "code",
   "execution_count": null,
   "metadata": {},
   "outputs": [],
   "source": []
  },
  {
   "cell_type": "code",
   "execution_count": null,
   "metadata": {},
   "outputs": [],
   "source": []
  },
  {
   "cell_type": "code",
   "execution_count": null,
   "metadata": {},
   "outputs": [],
   "source": []
  },
  {
   "cell_type": "code",
   "execution_count": null,
   "metadata": {},
   "outputs": [],
   "source": []
  },
  {
   "cell_type": "code",
   "execution_count": null,
   "metadata": {},
   "outputs": [],
   "source": []
  },
  {
   "cell_type": "code",
   "execution_count": null,
   "metadata": {},
   "outputs": [],
   "source": []
  },
  {
   "cell_type": "code",
   "execution_count": null,
   "metadata": {},
   "outputs": [],
   "source": []
  },
  {
   "cell_type": "code",
   "execution_count": null,
   "metadata": {},
   "outputs": [],
   "source": []
  },
  {
   "cell_type": "code",
   "execution_count": null,
   "metadata": {},
   "outputs": [],
   "source": []
  },
  {
   "cell_type": "code",
   "execution_count": null,
   "metadata": {},
   "outputs": [],
   "source": []
  },
  {
   "cell_type": "markdown",
   "metadata": {},
   "source": [
    "We will create seperate data frame for cars which have steering wheel on the right or which are antique."
   ]
  },
  {
   "cell_type": "code",
   "execution_count": null,
   "metadata": {},
   "outputs": [],
   "source": [
    "#cars that has steering wheel on the right or which are antique\n",
    "df1=df[(df['Kierownica po prawej (Anglik)']=='Tak')|(df['Zarejestrowany jako zabytek'].isnull()!=True)]"
   ]
  },
  {
   "cell_type": "code",
   "execution_count": null,
   "metadata": {},
   "outputs": [],
   "source": [
    "df1[df1['Zarejestrowany jako zabytek'].isnull()!=True][['Marka pojazdu','Model pojazdu','Rok produkcji','Zarejestrowany jako zabytek']]"
   ]
  },
  {
   "cell_type": "markdown",
   "metadata": {},
   "source": [
    "This cars doesn't seem to be an antique so we will remove them from our data frame. We will also remove cars with steering wheel on the right and cars with unpaid credit because there are just a few cars like that and they may not fit into our model."
   ]
  },
  {
   "cell_type": "code",
   "execution_count": null,
   "metadata": {},
   "outputs": [],
   "source": [
    "#removing cars with steering wheel on the right or which are antique\n",
    "df.drop(df[df['Kierownica po prawej (Anglik)']=='Tak'].index,inplace=True)\n",
    "df.drop(df[df['Liczba pozostałych rat'].isnull()!=True].index,inplace=True)\n",
    "df.drop(df[df['Zarejestrowany jako zabytek'].isnull()!=True].index,inplace=True)\n",
    "df.drop('Kolor',axis=1,inplace=True)"
   ]
  },
  {
   "cell_type": "code",
   "execution_count": null,
   "metadata": {},
   "outputs": [],
   "source": [
    "df=df.reset_index(drop=True)"
   ]
  },
  {
   "cell_type": "markdown",
   "metadata": {},
   "source": [
    "Now we will deal with missing values."
   ]
  },
  {
   "cell_type": "code",
   "execution_count": null,
   "metadata": {
    "scrolled": true
   },
   "outputs": [],
   "source": [
    "sns.heatmap(df[df.columns[20:40]].isnull())"
   ]
  },
  {
   "cell_type": "markdown",
   "metadata": {},
   "source": [
    "We will remove columns which are unnecessary or which have too much nan values."
   ]
  },
  {
   "cell_type": "code",
   "execution_count": null,
   "metadata": {},
   "outputs": [],
   "source": [
    "#removin columns which are unnecessary or which have too much nan values\n",
    "df.drop(['Emisja CO2','Faktura VAT','Generacja','Homologacja ciężarowa','Kierownica po prawej (Anglik)',\n",
    "        'Kod Silnika','Leasing','Liczba pozostałych rat','Miesięczna rata','Możliwość finansowania',\n",
    "        'Numer rejestracyjny pojazdu','Opłata początkowa','Pierwsza rejestracja','VAT marża','Wartość wykupu','Wersja',\n",
    "        'Zarejestrowany jako zabytek','lub do (przebieg km)','Liczba drzwi','Liczba miejsc','Napęd'],axis=1,inplace=True)"
   ]
  },
  {
   "cell_type": "markdown",
   "metadata": {},
   "source": [
    "Missing values in country of origin column we will set as Polska because I think that is the most probably value and this might be important for our model."
   ]
  },
  {
   "cell_type": "code",
   "execution_count": null,
   "metadata": {},
   "outputs": [],
   "source": [
    "#changing NaN values in 'Kraj pochodzenia' into Polska\n",
    "for i in range(df['price'].count()):\n",
    "    try:\n",
    "        if math.isnan(df['Kraj pochodzenia'][i]):\n",
    "            df['Kraj pochodzenia'][i]='Polska'\n",
    "    except:\n",
    "        continue"
   ]
  },
  {
   "cell_type": "markdown",
   "metadata": {},
   "source": [
    "We will remove cars with missing values in columns power, capacity of an engine and gear box."
   ]
  },
  {
   "cell_type": "code",
   "execution_count": null,
   "metadata": {},
   "outputs": [],
   "source": [
    "#removing rows with missing values\n",
    "df.drop(df[df['Moc'].isnull()==True].index,inplace=True)\n",
    "df.drop(df[df['Pojemność skokowa'].isnull()==True].index,inplace=True)\n",
    "df.drop(df[df['Skrzynia biegów'].isnull()==True].index,inplace=True)\n",
    "df.drop(df[df['price']=='5 600EUR'].index,inplace=True)"
   ]
  },
  {
   "cell_type": "markdown",
   "metadata": {},
   "source": [
    "In the rest of columns when we have missing value it means that a given car doesn't have a feature which this column represents, so we will fill this fields with 0, and if a given car does have some feature we will set 1."
   ]
  },
  {
   "cell_type": "code",
   "execution_count": null,
   "metadata": {},
   "outputs": [],
   "source": [
    "#changing nan values into 0 and 'Tak' into 1\n",
    "df=df.apply(change_nan)"
   ]
  },
  {
   "cell_type": "code",
   "execution_count": null,
   "metadata": {},
   "outputs": [],
   "source": [
    "df['Stan'].unique()"
   ]
  },
  {
   "cell_type": "code",
   "execution_count": null,
   "metadata": {},
   "outputs": [],
   "source": [
    "df['Kategoria'].unique()"
   ]
  },
  {
   "cell_type": "markdown",
   "metadata": {},
   "source": [
    "We will remove unnecessary columns category and condition, because every car has the same value in this columns."
   ]
  },
  {
   "cell_type": "code",
   "execution_count": null,
   "metadata": {},
   "outputs": [],
   "source": [
    "#removing unnecessary clumns\n",
    "df.drop('Stan',axis=1,inplace=True)\n",
    "df.drop('Kategoria',axis=1,inplace=True)"
   ]
  },
  {
   "cell_type": "code",
   "execution_count": null,
   "metadata": {},
   "outputs": [],
   "source": [
    "df=df.reset_index(drop=True)"
   ]
  },
  {
   "cell_type": "markdown",
   "metadata": {},
   "source": [
    "Now we will change format of some columns, from string into float or date.time object."
   ]
  },
  {
   "cell_type": "code",
   "execution_count": null,
   "metadata": {},
   "outputs": [],
   "source": [
    "#changing format of some columns\n",
    "df['Moc']=df['Moc'].apply(clean_guarantee)\n",
    "df['Pojemność skokowa']=df['Pojemność skokowa'].apply(clean_instalment)\n",
    "df['Przebieg']=df['Przebieg'].apply(clean_instalment)\n",
    "df['price']=df['price'].apply(change_price)\n",
    "df['Okres gwarancji producenta']=df['Okres gwarancji producenta'].apply(change_date)\n",
    "df['Gwarancja dealerska (w cenie)']=df['Gwarancja dealerska (w cenie)'].apply(clean_guarantee)"
   ]
  },
  {
   "cell_type": "markdown",
   "metadata": {},
   "source": [
    "We will fix values in Metalik column. Instead of 'metallic' there shoud be 1."
   ]
  },
  {
   "cell_type": "code",
   "execution_count": null,
   "metadata": {},
   "outputs": [],
   "source": [
    "#fixing values in 'Metalik' column\n",
    "for i in range(df['price'].count()):\n",
    "    if df[df.columns[7]][i]=='metallic':\n",
    "        df[df.columns[7]][i]=1"
   ]
  },
  {
   "cell_type": "markdown",
   "metadata": {},
   "source": [
    "We will create a new column informing about how much guarantee has left."
   ]
  },
  {
   "cell_type": "code",
   "execution_count": null,
   "metadata": {},
   "outputs": [],
   "source": [
    "for i in range(df['price'].count()):\n",
    "    if df['Gwarancja dealerska (w cenie)'][i]!=0:\n",
    "        df['guarantee left'][i]=df['Gwarancja dealerska (w cenie)'][i]\n",
    "    else:\n",
    "        df['guarantee left'][i]=guarantee_left(df['Okres gwarancji producenta'][i])"
   ]
  },
  {
   "cell_type": "code",
   "execution_count": null,
   "metadata": {
    "scrolled": true
   },
   "outputs": [],
   "source": [
    "df.columns"
   ]
  },
  {
   "cell_type": "markdown",
   "metadata": {},
   "source": [
    "Now we will change some columns into categorical."
   ]
  },
  {
   "cell_type": "code",
   "execution_count": null,
   "metadata": {},
   "outputs": [],
   "source": [
    "#Changing some columns into categorical\n",
    "\n",
    "df=pd.concat([df,pd.get_dummies(df['Marka pojazdu'])],axis=1)\n",
    "#df1.drop('Marka pojazdu',axis=1,inplace=True)\n",
    "\n",
    "df=pd.concat([df,pd.get_dummies(df['Model pojazdu'])],axis=1)\n",
    "#df1.drop('Model pojazdu',axis=1,inplace=True)\n",
    "\n",
    "df=pd.concat([df,pd.get_dummies(df['Oferta od'])],axis=1)\n",
    "\n",
    "df=pd.concat([df,pd.get_dummies(df['Rodzaj paliwa'])],axis=1)\n",
    "\n",
    "df=pd.concat([df,pd.get_dummies(df['Skrzynia biegów'])],axis=1)\n",
    "\n",
    "df=pd.concat([df,pd.get_dummies(df['Typ'])],axis=1)\n",
    "\n",
    "df=pd.concat([df,pd.get_dummies(df['Kraj pochodzenia'])],axis=1)"
   ]
  },
  {
   "cell_type": "code",
   "execution_count": null,
   "metadata": {
    "scrolled": true
   },
   "outputs": [],
   "source": [
    "df=df.rename(columns={'Model pojazdu':'model','Marka pojazdu':'brand','Moc':'power','Rok produkcji':'year of production',\n",
    "            'Pojemność skokowa':'capacity of an engine','Przebieg':'mileage'})"
   ]
  },
  {
   "cell_type": "code",
   "execution_count": null,
   "metadata": {
    "scrolled": true
   },
   "outputs": [],
   "source": [
    "df.to_csv('otomoto clean 3')"
   ]
  },
  {
   "cell_type": "markdown",
   "metadata": {},
   "source": [
    "## Exploratory data analysis"
   ]
  },
  {
   "cell_type": "code",
   "execution_count": null,
   "metadata": {},
   "outputs": [],
   "source": [
    "df=pd.read_csv('otomoto clean 3')\n",
    "df.drop('Unnamed: 0',axis=1,inplace=True)"
   ]
  },
  {
   "cell_type": "code",
   "execution_count": null,
   "metadata": {},
   "outputs": [],
   "source": [
    "important_params=['model','brand','power','year of production','capacity of an engine','mileage','price']"
   ]
  },
  {
   "cell_type": "markdown",
   "metadata": {},
   "source": [
    "Let's see how a distubution of a price, a mileage, a year of production and a power looks like."
   ]
  },
  {
   "cell_type": "code",
   "execution_count": null,
   "metadata": {},
   "outputs": [],
   "source": [
    "plt.hist(df['price'],bins=20)"
   ]
  },
  {
   "cell_type": "code",
   "execution_count": null,
   "metadata": {
    "scrolled": true
   },
   "outputs": [],
   "source": [
    "pd.DataFrame(df['mileage'].unique()).sort_values(by=0)"
   ]
  },
  {
   "cell_type": "code",
   "execution_count": null,
   "metadata": {},
   "outputs": [],
   "source": [
    "plt.hist(df['mileage'],bins=20)"
   ]
  },
  {
   "cell_type": "code",
   "execution_count": null,
   "metadata": {},
   "outputs": [],
   "source": [
    "plt.hist(df['year of production'],bins=20)"
   ]
  },
  {
   "cell_type": "code",
   "execution_count": null,
   "metadata": {},
   "outputs": [],
   "source": [
    "plt.hist(df['power'],bins=20)"
   ]
  },
  {
   "cell_type": "markdown",
   "metadata": {},
   "source": [
    "## mean price for brands"
   ]
  },
  {
   "cell_type": "code",
   "execution_count": null,
   "metadata": {},
   "outputs": [],
   "source": [
    "fig,axes=plt.subplots(figsize=(12,6))\n",
    "sns.barplot(y='brand',x='price',data=df)"
   ]
  },
  {
   "cell_type": "markdown",
   "metadata": {},
   "source": [
    "Let's sort brands by a mean price. "
   ]
  },
  {
   "cell_type": "code",
   "execution_count": null,
   "metadata": {
    "scrolled": true
   },
   "outputs": [],
   "source": [
    "pd.DataFrame(df.groupby('brand').mean()['price']).sort_values(by='price',ascending=False)"
   ]
  },
  {
   "cell_type": "markdown",
   "metadata": {},
   "source": [
    "## most popular brands"
   ]
  },
  {
   "cell_type": "code",
   "execution_count": null,
   "metadata": {
    "scrolled": true
   },
   "outputs": [],
   "source": [
    "pd.DataFrame(df.groupby('brand').count()['price']).rename(columns={'price':'amount of offers'}).sort_values(by='amount of offers',ascending=False)"
   ]
  },
  {
   "cell_type": "markdown",
   "metadata": {},
   "source": [
    "## cars with biggest power"
   ]
  },
  {
   "cell_type": "code",
   "execution_count": null,
   "metadata": {
    "scrolled": true
   },
   "outputs": [],
   "source": [
    "df1[df1['mileage']<=200000][important_params].sort_values(by='power',ascending=False)"
   ]
  },
  {
   "cell_type": "markdown",
   "metadata": {},
   "source": [
    "## distribution of a price for cars with different mileage"
   ]
  },
  {
   "cell_type": "code",
   "execution_count": null,
   "metadata": {},
   "outputs": [],
   "source": [
    "bins=[0,50000,100000,150000,200000,250000,300000,350000,float('inf')]\n",
    "df['mileage category']=pd.cut(df['mileage'],bins,labels=[1,2,3,4,5,6,7,8])"
   ]
  },
  {
   "cell_type": "code",
   "execution_count": null,
   "metadata": {},
   "outputs": [],
   "source": [
    "sns.boxplot(x='mileage category',y='price',data=df)"
   ]
  },
  {
   "cell_type": "markdown",
   "metadata": {},
   "source": [
    "A mileage category 1 means mileage between 0 and 50000, a mileage category 2 means mileage between 50000 and 100000, a mileage category 3 means mileage between 100000 and 150000 etc."
   ]
  },
  {
   "cell_type": "markdown",
   "metadata": {},
   "source": [
    "## distribution of a price for cars with different power"
   ]
  },
  {
   "cell_type": "code",
   "execution_count": null,
   "metadata": {},
   "outputs": [],
   "source": [
    "bins=[0,100,150,200,250]\n",
    "df['power category']=pd.cut(df['power'],bins,labels=[1,2,3,4])"
   ]
  },
  {
   "cell_type": "code",
   "execution_count": null,
   "metadata": {},
   "outputs": [],
   "source": [
    "sns.boxplot(x='power category',y='price', data=df)"
   ]
  },
  {
   "cell_type": "markdown",
   "metadata": {},
   "source": [
    "A power category 1 means a power between 0 and 100, a power category 2 means a power between 100 and 150, a power category 3 means a power between 150 and 200, etc."
   ]
  },
  {
   "cell_type": "markdown",
   "metadata": {},
   "source": [
    "## distribution of a price for cars produced in different years"
   ]
  },
  {
   "cell_type": "code",
   "execution_count": null,
   "metadata": {},
   "outputs": [],
   "source": [
    "bins=[float('-inf'),2000,2003,2006,2009,2012,2016,2018]\n",
    "df2=pd.DataFrame(pd.cut(df['year of production'],bins,labels=[1,2,3,4,5,6,7])).rename(columns={'year of production':'year category'})\n",
    "df2"
   ]
  },
  {
   "cell_type": "code",
   "execution_count": null,
   "metadata": {},
   "outputs": [],
   "source": [
    "sns.boxplot(x='year category',y='price',data=pd.concat([df,df2],axis=1))"
   ]
  },
  {
   "cell_type": "markdown",
   "metadata": {},
   "source": [
    "A year category 1 means a year of production before 2000, a year category 2 means a year of production between 2000 and 2003, a year category 3 means a year of production between 2004 and 2007, a year category 4 means a year of production between 2008 and 2011, etc."
   ]
  },
  {
   "cell_type": "markdown",
   "metadata": {},
   "source": [
    "## distribution of a price for cars with different power and produced in different years"
   ]
  },
  {
   "cell_type": "code",
   "execution_count": null,
   "metadata": {},
   "outputs": [],
   "source": [
    "sns.FacetGrid(pd.concat([df,df2],axis=1),row='power category',aspect=2).map(sns.boxplot,'year category','price')"
   ]
  },
  {
   "cell_type": "code",
   "execution_count": null,
   "metadata": {},
   "outputs": [],
   "source": [
    "sns.heatmap(df[['power','year of production','capacity of an engine','mileage','price']].corr(),annot=True)"
   ]
  },
  {
   "cell_type": "markdown",
   "metadata": {},
   "source": [
    "## model building"
   ]
  },
  {
   "cell_type": "code",
   "execution_count": 6,
   "metadata": {},
   "outputs": [],
   "source": [
    "df=pd.read_csv('otomoto clean 3')"
   ]
  },
  {
   "cell_type": "code",
   "execution_count": 7,
   "metadata": {},
   "outputs": [],
   "source": [
    "df1=df.drop(['brand','model','Oferta od','Rodzaj paliwa','Skrzynia biegów','Typ',\n",
    "              'Okres gwarancji producenta','Kraj pochodzenia'],axis=1)"
   ]
  },
  {
   "cell_type": "markdown",
   "metadata": {},
   "source": [
    "I have checked a different models and the best one was the Linear Regression. We will calculate root mean squared error in order to evaluate how good our model is performing."
   ]
  },
  {
   "cell_type": "code",
   "execution_count": null,
   "metadata": {},
   "outputs": [],
   "source": [
    "from sklearn.model_selection import train_test_split\n",
    "x=df1.drop('price',axis=1)\n",
    "y=df1['price']\n",
    "x_train,x_test,y_train,y_test=train_test_split(x,y,test_size=0.2)\n",
    "\n",
    "from sklearn.linear_model import LinearRegression\n",
    "from sklearn.metrics import mean_squared_error\n",
    "model=LinearRegression()\n",
    "model.fit(x_train,y_train)\n",
    "pred=model.predict(x_test)\n",
    "print('RMSE: {}'.format(np.sqrt(mean_squared_error(y_test,pred))))"
   ]
  },
  {
   "cell_type": "markdown",
   "metadata": {},
   "source": [
    "## model 2"
   ]
  },
  {
   "cell_type": "markdown",
   "metadata": {},
   "source": [
    "In this model we will remove outliers."
   ]
  },
  {
   "cell_type": "code",
   "execution_count": null,
   "metadata": {
    "scrolled": true
   },
   "outputs": [],
   "source": [
    "df1['mileage'].sort_values()"
   ]
  },
  {
   "cell_type": "code",
   "execution_count": null,
   "metadata": {},
   "outputs": [],
   "source": [
    "df1=df1[df1['mileage']<=519332]"
   ]
  },
  {
   "cell_type": "code",
   "execution_count": null,
   "metadata": {},
   "outputs": [],
   "source": [
    "plt.hist(df1['mileage'])"
   ]
  },
  {
   "cell_type": "code",
   "execution_count": null,
   "metadata": {},
   "outputs": [],
   "source": [
    "plt.hist(df1['power'])"
   ]
  },
  {
   "cell_type": "code",
   "execution_count": null,
   "metadata": {},
   "outputs": [],
   "source": [
    "plt.hist(df1[df1['power']>250]['power'])"
   ]
  },
  {
   "cell_type": "code",
   "execution_count": null,
   "metadata": {},
   "outputs": [],
   "source": [
    "plt.hist(df1[df1['power']<70]['power'])"
   ]
  },
  {
   "cell_type": "code",
   "execution_count": null,
   "metadata": {},
   "outputs": [],
   "source": [
    "plt.hist(df1[(df1['power']>=56)&(df1['power']<=306)]['power'])"
   ]
  },
  {
   "cell_type": "code",
   "execution_count": null,
   "metadata": {},
   "outputs": [],
   "source": [
    "df1=df1[(df1['power']>=56)&(df1['power']<=306)]"
   ]
  },
  {
   "cell_type": "code",
   "execution_count": null,
   "metadata": {},
   "outputs": [],
   "source": [
    "plt.hist(df1['year of production'],bins=20)"
   ]
  },
  {
   "cell_type": "code",
   "execution_count": null,
   "metadata": {},
   "outputs": [],
   "source": [
    "df1[df1['year of production']<=2002]['year of production'].value_counts()"
   ]
  },
  {
   "cell_type": "code",
   "execution_count": null,
   "metadata": {},
   "outputs": [],
   "source": [
    "df1=df1[df1['year of production']>=2000]"
   ]
  },
  {
   "cell_type": "code",
   "execution_count": null,
   "metadata": {},
   "outputs": [],
   "source": [
    "from sklearn.model_selection import train_test_split\n",
    "x=df1.drop('price',axis=1)\n",
    "y=df1['price']\n",
    "x_train,x_test,y_train,y_test=train_test_split(x,y,test_size=0.2)\n",
    "\n",
    "from sklearn.linear_model import LinearRegression\n",
    "from sklearn.metrics import mean_squared_error\n",
    "model=LinearRegression()\n",
    "model.fit(x_train,y_train)\n",
    "pred=model.predict(x_test)\n",
    "print('RMSE: {}'.format(np.sqrt(mean_squared_error(y_test,pred))))"
   ]
  },
  {
   "cell_type": "markdown",
   "metadata": {},
   "source": [
    "Let's see how a distribution of an error (error = |real price - predicted price|) looks like."
   ]
  },
  {
   "cell_type": "code",
   "execution_count": null,
   "metadata": {},
   "outputs": [],
   "source": [
    "error=[]\n",
    "for i in range(len(pred)):\n",
    "    x=pred[i]\n",
    "    y=y_test.values[i]\n",
    "    error.append(abs(y-x))"
   ]
  },
  {
   "cell_type": "code",
   "execution_count": null,
   "metadata": {
    "scrolled": true
   },
   "outputs": [],
   "source": [
    "sns.boxplot(pd.DataFrame(error))"
   ]
  },
  {
   "cell_type": "markdown",
   "metadata": {},
   "source": [
    "From this graph we can see that in 75% of cases the error was smaller than 5000 and in almost all cases the error was smaller 10000. "
   ]
  },
  {
   "cell_type": "markdown",
   "metadata": {},
   "source": [
    "Now we will define error as a ratio of a difference of prices to a real price (error = |real price - predicted price| / real price)"
   ]
  },
  {
   "cell_type": "code",
   "execution_count": null,
   "metadata": {},
   "outputs": [],
   "source": [
    "error=[]\n",
    "for i in range(len(pred)):\n",
    "    x=pred[i]\n",
    "    y=y_test.values[i]\n",
    "    error.append(abs(y-x)/y)"
   ]
  },
  {
   "cell_type": "code",
   "execution_count": null,
   "metadata": {},
   "outputs": [],
   "source": [
    "sns.boxplot(pd.DataFrame(error))"
   ]
  },
  {
   "cell_type": "markdown",
   "metadata": {},
   "source": [
    "From this graph we can see that in 75% of cases the error was smaller than 20% of a real price and in almost all cases it was smaller than 40% of a real price."
   ]
  }
 ],
 "metadata": {
  "kernelspec": {
   "display_name": "Python 3 (ipykernel)",
   "language": "python",
   "name": "python3"
  },
  "language_info": {
   "codemirror_mode": {
    "name": "ipython",
    "version": 3
   },
   "file_extension": ".py",
   "mimetype": "text/x-python",
   "name": "python",
   "nbconvert_exporter": "python",
   "pygments_lexer": "ipython3",
   "version": "3.7.9"
  }
 },
 "nbformat": 4,
 "nbformat_minor": 4
}
