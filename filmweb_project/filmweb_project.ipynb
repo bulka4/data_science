{
 "cells": [
  {
   "cell_type": "markdown",
   "metadata": {},
   "source": [
    "In this notebook I will create a data set about movies from a base at filmweb.pl using a BeautifulSoup, try to predict and rating of movies."
   ]
  },
  {
   "cell_type": "markdown",
   "metadata": {},
   "source": [
    "## importing"
   ]
  },
  {
   "cell_type": "code",
   "execution_count": 1,
   "metadata": {},
   "outputs": [],
   "source": [
    "from bs4 import BeautifulSoup as bs\n",
    "import requests\n",
    "import pandas as pd\n",
    "import numpy as np\n",
    "import seaborn as sns\n",
    "import matplotlib.pyplot as plt\n",
    "from datetime import datetime\n",
    "\n",
    "from tqdm import tqdm\n",
    "\n",
    "from sklearn.feature_extraction.text import CountVectorizer\n",
    "from sklearn.metrics.pairwise import cosine_similarity"
   ]
  },
  {
   "cell_type": "markdown",
   "metadata": {
    "jp-MarkdownHeadingCollapsed": true,
    "tags": []
   },
   "source": [
    "## preparing functions"
   ]
  },
  {
   "cell_type": "code",
   "execution_count": 2,
   "metadata": {},
   "outputs": [],
   "source": [
    "# function getting information about 1 film\n",
    "\n",
    "def get_info(link):\n",
    "    \n",
    "    r=requests.get(link)\n",
    "    soup=bs(r.content)\n",
    "\n",
    "    movie_info={}\n",
    "    \n",
    "    #info about directors,...,premiere \n",
    "    info_box=soup.find(class_='filmPosterSection__info filmInfo')\n",
    "\n",
    "    keys=info_box.find_all(class_='filmInfo__header')\n",
    "    values=info_box.find_all(class_='filmInfo__info')\n",
    "\n",
    "    for i in range(len(keys)):\n",
    "        key=keys[i].get_text(strip=True).split('(')[0]\n",
    "        value=values[i].get_text(strip=True).split('(')[0]\n",
    "        movie_info[key]=value\n",
    "        \n",
    "    #info about title and actors\n",
    "    for i in range(10):\n",
    "        try:\n",
    "            base_link='https://www.filmweb.pl'\n",
    "            actors_link=base_link+soup.find_all(class_='page__moreButton')[i].a['href']\n",
    "\n",
    "            r2=requests.get(actors_link)\n",
    "            soup2=bs(r2.content)\n",
    "\n",
    "            movie_info['title']=soup2.find(class_='filmHeaderSection__title').get_text(strip=True)\n",
    "\n",
    "            actors_table=soup2.find(class_='filmFullCastSection__list')\n",
    "            actors_rows=actors_table.find_all(class_='castRoleListElement__info')\n",
    "            movie_info['actors']=[]\n",
    "\n",
    "            for index, row in enumerate(actors_rows):\n",
    "                actor_name=row.a.get_text(strip=True)\n",
    "                movie_info['actors'].append(actor_name)\n",
    "                if index > 10:\n",
    "                    break\n",
    "        except:\n",
    "            continue\n",
    "\n",
    "    #info about boxoffice,..., oryginal title\n",
    "    info_box3=soup.find(class_='filmOtherInfoSection__group')\n",
    "    info_rows3=info_box3.find_all(class_='filmInfo__group')\n",
    "\n",
    "    for index, row in enumerate(info_rows3):\n",
    "        if index<5:\n",
    "            keys=row.find_all(class_='filmInfo__header')\n",
    "            values=row.find_all(class_='filmInfo__info')\n",
    "            for i in range(2):\n",
    "                try:\n",
    "                    key2=keys[i].get_text(strip=True).split('(')[0]\n",
    "                    value2=values[i].get_text(strip=True).split('(')[0]\n",
    "                    movie_info[key2]=value2\n",
    "                except:\n",
    "                    continue\n",
    "        else:\n",
    "            break\n",
    "    \n",
    "    #info about rating\n",
    "    movie_info['rating']=soup.find(class_='filmRating__rateValue').get_text(strip=True)\n",
    "    \n",
    "    # change movie_info into a dataframe\n",
    "    for key in list(movie_info.keys()):\n",
    "        movie_info[key] = [movie_info[key]]\n",
    "        \n",
    "    movie_info = pd.DataFrame(movie_info)\n",
    "            \n",
    "    return movie_info"
   ]
  },
  {
   "cell_type": "code",
   "execution_count": 3,
   "metadata": {},
   "outputs": [
    {
     "data": {
      "text/html": [
       "<div>\n",
       "<style scoped>\n",
       "    .dataframe tbody tr th:only-of-type {\n",
       "        vertical-align: middle;\n",
       "    }\n",
       "\n",
       "    .dataframe tbody tr th {\n",
       "        vertical-align: top;\n",
       "    }\n",
       "\n",
       "    .dataframe thead th {\n",
       "        text-align: right;\n",
       "    }\n",
       "</style>\n",
       "<table border=\"1\" class=\"dataframe\">\n",
       "  <thead>\n",
       "    <tr style=\"text-align: right;\">\n",
       "      <th></th>\n",
       "      <th>reżyseria</th>\n",
       "      <th>scenariusz</th>\n",
       "      <th>gatunek</th>\n",
       "      <th>produkcja</th>\n",
       "      <th>premiera</th>\n",
       "      <th>nagrody</th>\n",
       "      <th>title</th>\n",
       "      <th>actors</th>\n",
       "      <th>boxoffice</th>\n",
       "      <th>budżet</th>\n",
       "      <th>na podstawie</th>\n",
       "      <th>studio</th>\n",
       "      <th>data produkcji</th>\n",
       "      <th>tytuł oryg.</th>\n",
       "      <th>rating</th>\n",
       "    </tr>\n",
       "  </thead>\n",
       "  <tbody>\n",
       "    <tr>\n",
       "      <th>0</th>\n",
       "      <td>Lana Wachowski</td>\n",
       "      <td>Lana Wachowski/Aleksandar Hemon/ więcej...</td>\n",
       "      <td>Akcja/Sci-Fi</td>\n",
       "      <td>USA</td>\n",
       "      <td>22 grudnia 2021</td>\n",
       "      <td>Film dostał 9 nominacji</td>\n",
       "      <td>Matrix Zmartwychwstania</td>\n",
       "      <td>[Keanu Reeves, Carrie-Anne Moss, Yahya Abdul-M...</td>\n",
       "      <td>$272 671 006 na świecie$37 571 006 w USA$235 1...</td>\n",
       "      <td>$190 000 000</td>\n",
       "      <td>Lilly Wachowski</td>\n",
       "      <td>NPV Entertainment/Silver Pictures/Village Road...</td>\n",
       "      <td>2021</td>\n",
       "      <td>The Matrix Resurrections</td>\n",
       "      <td>5,1</td>\n",
       "    </tr>\n",
       "  </tbody>\n",
       "</table>\n",
       "</div>"
      ],
      "text/plain": [
       "        reżyseria                                  scenariusz       gatunek  \\\n",
       "0  Lana Wachowski  Lana Wachowski/Aleksandar Hemon/ więcej...  Akcja/Sci-Fi   \n",
       "\n",
       "  produkcja          premiera                  nagrody  \\\n",
       "0       USA  22 grudnia 2021   Film dostał 9 nominacji   \n",
       "\n",
       "                     title                                             actors  \\\n",
       "0  Matrix Zmartwychwstania  [Keanu Reeves, Carrie-Anne Moss, Yahya Abdul-M...   \n",
       "\n",
       "                                           boxoffice        budżet  \\\n",
       "0  $272 671 006 na świecie$37 571 006 w USA$235 1...  $190 000 000   \n",
       "\n",
       "      na podstawie                                             studio  \\\n",
       "0  Lilly Wachowski  NPV Entertainment/Silver Pictures/Village Road...   \n",
       "\n",
       "  data produkcji               tytuł oryg. rating  \n",
       "0           2021  The Matrix Resurrections    5,1  "
      ]
     },
     "execution_count": 3,
     "metadata": {},
     "output_type": "execute_result"
    }
   ],
   "source": [
    "get_info('https://www.filmweb.pl/film/Matrix+Zmartwychwstania-2021-838524?ref=ls_d_0_mat')"
   ]
  },
  {
   "cell_type": "code",
   "execution_count": 4,
   "metadata": {},
   "outputs": [],
   "source": [
    "# getting info about given number of the best movies with rate in given range\n",
    "\n",
    "def create_movie_info_table(max_rate, min_rate, wanted_no_movies):\n",
    "    movie_info_table = pd.DataFrame()\n",
    "    ready_no_movies = 0\n",
    "    page = 1\n",
    "\n",
    "    while ready_no_movies < wanted_no_movies:\n",
    "        link = f'https://www.filmweb.pl/films/search?endRate={max_rate}&orderBy=rate&descending=true&startCount=8000&startRate={min_rate}&page={page}'\n",
    "\n",
    "        r=requests.get(link)\n",
    "        soup=bs(r.content)\n",
    "\n",
    "        movies_table = soup.find(id = 'searchResult')\n",
    "        movies = movies_table.find_all(class_ = 'hits__item')[ : wanted_no_movies - ready_no_movies]\n",
    "        \n",
    "        # check if there is no more pages with movies with rate in given range\n",
    "        if len(movies) == 0:\n",
    "            break\n",
    "\n",
    "        for i, movie in enumerate(movies):\n",
    "            movie_link = 'http://filmweb.pl' + movie.find(class_ = 'filmPreview__link')['href']\n",
    "\n",
    "            movie_info_row = get_info(movie_link)\n",
    "            movie_info_table = pd.concat((movie_info_table, movie_info_row))\n",
    "            ready_no_movies += 1\n",
    "\n",
    "        page += 1\n",
    "        \n",
    "    movie_info_table.reset_index(drop = True, inplace = True)\n",
    "    \n",
    "    return movie_info_table"
   ]
  },
  {
   "cell_type": "code",
   "execution_count": 7,
   "metadata": {},
   "outputs": [
    {
     "data": {
      "text/html": [
       "<div>\n",
       "<style scoped>\n",
       "    .dataframe tbody tr th:only-of-type {\n",
       "        vertical-align: middle;\n",
       "    }\n",
       "\n",
       "    .dataframe tbody tr th {\n",
       "        vertical-align: top;\n",
       "    }\n",
       "\n",
       "    .dataframe thead th {\n",
       "        text-align: right;\n",
       "    }\n",
       "</style>\n",
       "<table border=\"1\" class=\"dataframe\">\n",
       "  <thead>\n",
       "    <tr style=\"text-align: right;\">\n",
       "      <th></th>\n",
       "    </tr>\n",
       "  </thead>\n",
       "  <tbody>\n",
       "  </tbody>\n",
       "</table>\n",
       "</div>"
      ],
      "text/plain": [
       "Empty DataFrame\n",
       "Columns: []\n",
       "Index: []"
      ]
     },
     "execution_count": 7,
     "metadata": {},
     "output_type": "execute_result"
    }
   ],
   "source": [
    "create_movie_info_table(4, 6, 10)"
   ]
  },
  {
   "cell_type": "code",
   "execution_count": 170,
   "metadata": {},
   "outputs": [],
   "source": [
    "# functions to change format of values obtained by using create_movie_info_table\n",
    "\n",
    "def clean_scenario(value):\n",
    "    if type(value) == float:\n",
    "        return value\n",
    "    else:\n",
    "        #changing string into list\n",
    "        lst=value.split('/')\n",
    "        if 'ięcej' in lst[-1]:\n",
    "            del lst[-1]\n",
    "    \n",
    "        return lst\n",
    "\n",
    "def clean_prod(value):\n",
    "    if type(value) == float:\n",
    "        return value\n",
    "    else:\n",
    "        return value.split(', ')\n",
    "\n",
    "def clean_studio(value):\n",
    "    if type(value) == float:\n",
    "        return value\n",
    "    else:\n",
    "        if 'ięcej' in ' '.join(value).split()[-1]:\n",
    "            return ' '.join(value).split()[:-1]\n",
    "        else:\n",
    "            return ' '.join(value).split()\n",
    "\n",
    "def miesiac_ang(miesiac):\n",
    "    if miesiac=='stycznia' or miesiac=='styczeń':\n",
    "        return 'January'\n",
    "    if miesiac=='lutego' or miesiac=='luty':\n",
    "        return 'February'\n",
    "    if miesiac=='marca' or miesiac=='marzec':\n",
    "        return 'March'\n",
    "    if miesiac=='kwietnia' or miesiac=='kwiecień':\n",
    "        return 'April'\n",
    "    if miesiac=='maja' or miesiac=='maj':\n",
    "        return 'May'\n",
    "    if miesiac=='czerwca' or miesiac=='czerwiec':\n",
    "        return 'June'\n",
    "    if miesiac=='lipca' or miesiac=='lipiec':\n",
    "        return 'July'\n",
    "    if miesiac=='sierpnia' or miesiac=='sierpień':\n",
    "        return 'August'\n",
    "    if miesiac=='września' or miesiac=='wrzesień':\n",
    "        return 'September'\n",
    "    if miesiac=='października' or miesiac=='październik':\n",
    "        return 'October'\n",
    "    if miesiac=='listopada' or miesiac=='listopad':\n",
    "        return 'November'\n",
    "    if miesiac=='grudnia' or miesiac=='grudzień':\n",
    "        return 'December'\n",
    "    \n",
    "def translating_date(date):\n",
    "    try:\n",
    "        lst=date.split()\n",
    "        if len(lst)==3:\n",
    "            lst[1]=miesiac_ang(date.split()[1])\n",
    "            return ' '.join(lst)\n",
    "        else:\n",
    "            lst[0]=miesiac_ang(date.split()[0])\n",
    "            return '1 '+' '.join(lst)\n",
    "    except:\n",
    "        return date\n",
    "\n",
    "def transform_rating(value):\n",
    "    if (value) == float:\n",
    "        return value\n",
    "    else:\n",
    "        return '.'.join(value.split(','))"
   ]
  },
  {
   "cell_type": "code",
   "execution_count": 6,
   "metadata": {},
   "outputs": [],
   "source": [
    "# creating a dictionary with lists of famous actors, actresses, directors and screenwriters with rate bigger than given min_rate\n",
    "# each of a list can't be longer than given max_length\n",
    "\n",
    "def get_famous_persons(min_rate, max_length):\n",
    "    famous_persons = {'actors': [], 'actresses': [], 'directors': [], 'screenwriters': []}\n",
    "    \n",
    "    link1 = f'https://www.filmweb.pl/ranking/person/actors/male?page='\n",
    "    link2 = f'https://www.filmweb.pl/ranking/person/actors/female?page='\n",
    "    link3 = f'https://www.filmweb.pl/ranking/person/director?page='\n",
    "    link4 = f'https://www.filmweb.pl/ranking/person/screenwriter?page='\n",
    "    \n",
    "    for i, base_link in enumerate([link1, link2, link3, link4]):\n",
    "        page = 1\n",
    "        key = list(famous_persons.keys())[i]\n",
    "        stop = False  # when stop a loop\n",
    "        \n",
    "        while stop == False:\n",
    "            link = base_link + str(page)\n",
    "            r=requests.get(link)\n",
    "            soup=bs(r.content)\n",
    "\n",
    "            actors_info=soup.find(class_='page__container rankingTypeSection__container')\n",
    "            actors_names=actors_info.find_all(class_='rankingTypePerson__header')\n",
    "            actors_rates = actors_info.find_all(class_='rankingType__rate--value')\n",
    "\n",
    "            for name, rate in zip(actors_names, actors_rates):\n",
    "                if len(famous_persons[key]) >= max_length:\n",
    "                    stop = True\n",
    "                    break\n",
    "                elif float(rate.get_text().replace(',', '.')) >= min_rate:\n",
    "                    famous_persons[key].append(name.get_text())\n",
    "                else:\n",
    "                    stop = True\n",
    "                    break\n",
    "                    \n",
    "            page += 1\n",
    "            \n",
    "    famous_persons['actors and actresses'] = famous_persons['actors'] + famous_persons['actresses']\n",
    "    del famous_persons['actors'] \n",
    "    del famous_persons['actresses']\n",
    "    \n",
    "    return famous_persons"
   ]
  },
  {
   "cell_type": "markdown",
   "metadata": {
    "jp-MarkdownHeadingCollapsed": true,
    "tags": []
   },
   "source": [
    "## preparing data"
   ]
  },
  {
   "cell_type": "markdown",
   "metadata": {},
   "source": [
    "We will get information about movies with rates from 4 to 9 stars."
   ]
  },
  {
   "cell_type": "code",
   "execution_count": 201,
   "metadata": {
    "tags": []
   },
   "outputs": [
    {
     "name": "stderr",
     "output_type": "stream",
     "text": [
      "  0%|                                                                                            | 0/6 [00:00<?, ?it/s]C:\\Users\\mbulk\\AppData\\Roaming\\Python\\Python37\\site-packages\\ipykernel_launcher.py:25: FutureWarning: Sorting because non-concatenation axis is not aligned. A future version\n",
      "of pandas will change to not sort by default.\n",
      "\n",
      "To accept the future behavior, pass 'sort=False'.\n",
      "\n",
      "To retain the current behavior and silence the warning, pass 'sort=True'.\n",
      "\n",
      "100%|███████████████████████████████████████████████████████████████████████████████████| 6/6 [26:05<00:00, 260.92s/it]\n"
     ]
    }
   ],
   "source": [
    "# gathering data about movies with rates from 4 to 9 stars (for each rate interval [i, i + 1] we take no more than  number of movies given by variable no_movies_for_rate_interval)\n",
    "# save this data as data/filmweb_data\n",
    "\n",
    "movies_info_table = pd.DataFrame() \n",
    "no_movies_for_rate_interval = 200\n",
    "min_rate = 4\n",
    "max_rate = 9\n",
    "\n",
    "for i in tqdm(range(min_rate, max_rate + 1)):\n",
    "    from_rate = i\n",
    "    to_rate = i + 1\n",
    "    movies_info_rows = create_movie_info_table(to_rate, from_rate, no_movies_for_rate_interval)\n",
    "    movies_info_table = pd.concat((movies_info_table, movies_info_rows))\n",
    "    \n",
    "movies_info_table.reset_index(drop = True, inplace = True)\n",
    "\n",
    "# remove columns with a lot of nan values\n",
    "movies_info_table.drop(['boxoffice', 'budżet', 'dystrybucja', 'inne tytuły', 'na podstawie', 'nagrody', 'tytuł oryg.', 'świat'], axis = 1, inplace = True)\n",
    "\n",
    "# translate some columns to English\n",
    "movies_info_table = movies_info_table.rename(columns={'data produkcji': 'date of production', 'gatunek': 'genre', 'premiera': 'premiere', \n",
    "           'produkcja': 'production', 'reżyseria': 'directing','scenariusz': 'scenario'})\n",
    "\n",
    "# changing format of some columns column\n",
    "movies_info_table['rating'] = movies_info_table['rating'].apply(transform_rating)\n",
    "movies_info_table['date of production'] = movies_info_table['date of production'].apply(float)\n",
    "movies_info_table['rating'] = movies_info_table['rating'].apply(float)\n",
    "movies_info_table['scenario'] = movies_info_table['scenario'].apply(clean_scenario)\n",
    "movies_info_table['directing'] = movies_info_table['directing'].apply(clean_scenario)\n",
    "movies_info_table['production'] = movies_info_table['production'].apply(clean_scenario)\n",
    "movies_info_table['studio'] = movies_info_table['studio'].apply(clean_scenario)\n",
    "movies_info_table['genre'] = movies_info_table.genre.apply(lambda x: x.split('/'))\n",
    "\n",
    "# changing 'premiere' column into datetime object\n",
    "movies_info_table['premiere'] = movies_info_table['premiere'].apply(translating_date)\n",
    "movies_info_table['premiere'] = movies_info_table['premiere'].apply(lambda x: datetime.strptime(x,'%d %B %Y') if isinstance(x, str) else x)\n",
    "        \n",
    "# creating additional columns representing number of famous actors, screenwriters and directors\n",
    "famous_persons = get_famous_persons(7, 200)\n",
    "\n",
    "movies_info_table['famous actors and actresses'] = movies_info_table.actors.apply(lambda x: np.intersect1d(x, famous_persons['actors and actresses']))\n",
    "movies_info_table['famous directors'] = movies_info_table.directing.apply(lambda x: np.intersect1d(x, famous_persons['directors']))\n",
    "movies_info_table['famous screenwriters'] = movies_info_table.scenario.apply(lambda x: np.intersect1d(x, famous_persons['screenwriters']))\n",
    "\n",
    "movies_info_table['num of famous actors and actresses'] = movies_info_table['famous actors and actresses'].apply(lambda x: len(x))\n",
    "movies_info_table['num of famous directors'] = movies_info_table['famous directors'].apply(lambda x: len(x))\n",
    "movies_info_table['num of famous screenwriters'] = movies_info_table['famous screenwriters'].apply(lambda x: len(x))\n",
    "\n",
    "# ceating columns for each film genre\n",
    "list_of_genres = []\n",
    "for i in range(len(movies_info_table)):\n",
    "    list_of_genres = np.concatenate((list_of_genres, movies_info_table.loc[i, 'genre']))\n",
    "\n",
    "for genre in np.unique(list_of_genres):\n",
    "    movies_info_table[f'{genre}'] = movies_info_table.genre.apply(lambda x: 1 if genre in x else 0)\n",
    "\n",
    "# creating columns for each country where film was produced\n",
    "list_of_countries = np.array([])\n",
    "for i in range(len(movies_info_table)):\n",
    "    list_of_countries = np.concatenate((list_of_countries, movies_info_table.loc[i, 'production']))\n",
    "               \n",
    "for country in np.unique(list_of_countries):\n",
    "    movies_info_table[f'prod_{country}'] = movies_info_table.production.apply(lambda x: 1 if country in x else 0)\n",
    "    \n",
    "# saving data\n",
    "movies_info_table.to_json('data/filmweb_data')"
   ]
  },
  {
   "cell_type": "code",
   "execution_count": 173,
   "metadata": {},
   "outputs": [
    {
     "data": {
      "text/html": [
       "<div>\n",
       "<style scoped>\n",
       "    .dataframe tbody tr th:only-of-type {\n",
       "        vertical-align: middle;\n",
       "    }\n",
       "\n",
       "    .dataframe tbody tr th {\n",
       "        vertical-align: top;\n",
       "    }\n",
       "\n",
       "    .dataframe thead th {\n",
       "        text-align: right;\n",
       "    }\n",
       "</style>\n",
       "<table border=\"1\" class=\"dataframe\">\n",
       "  <thead>\n",
       "    <tr style=\"text-align: right;\">\n",
       "      <th></th>\n",
       "      <th>actors</th>\n",
       "      <th>date of production</th>\n",
       "      <th>genre</th>\n",
       "      <th>premiere</th>\n",
       "      <th>production</th>\n",
       "      <th>rating</th>\n",
       "      <th>directing</th>\n",
       "      <th>scenario</th>\n",
       "      <th>studio</th>\n",
       "      <th>title</th>\n",
       "      <th>...</th>\n",
       "      <th>prod_Szwecja</th>\n",
       "      <th>prod_Tajlandia</th>\n",
       "      <th>prod_Turcja</th>\n",
       "      <th>prod_USA</th>\n",
       "      <th>prod_Wenezuela</th>\n",
       "      <th>prod_Wielka Brytania</th>\n",
       "      <th>prod_Węgry</th>\n",
       "      <th>prod_Włochy</th>\n",
       "      <th>prod_ZSRR</th>\n",
       "      <th>prod_Zjednoczone Emiraty Arabskie</th>\n",
       "    </tr>\n",
       "  </thead>\n",
       "  <tbody>\n",
       "    <tr>\n",
       "      <th>0</th>\n",
       "      <td>[Marcin Dorociński, Urszula Grabowska, Karolin...</td>\n",
       "      <td>2009.0</td>\n",
       "      <td>[Komedia rom.]</td>\n",
       "      <td>2009-08-21</td>\n",
       "      <td>[Polska]</td>\n",
       "      <td>4.9</td>\n",
       "      <td>[Krzysztof Lang]</td>\n",
       "      <td>[Anita Nawrocka, Paweł Trześniowski]</td>\n",
       "      <td>[Agencja Media Plus, Kino Świat]</td>\n",
       "      <td>Miłość na wybiegu</td>\n",
       "      <td>...</td>\n",
       "      <td>0</td>\n",
       "      <td>0</td>\n",
       "      <td>0</td>\n",
       "      <td>0</td>\n",
       "      <td>0</td>\n",
       "      <td>0</td>\n",
       "      <td>0</td>\n",
       "      <td>0</td>\n",
       "      <td>0</td>\n",
       "      <td>0</td>\n",
       "    </tr>\n",
       "    <tr>\n",
       "      <th>1</th>\n",
       "      <td>[Izabella Miko, Mateusz Damięcki, Mariusz Słup...</td>\n",
       "      <td>2009.0</td>\n",
       "      <td>[Komedia rom., Muzyczny]</td>\n",
       "      <td>2009-03-06</td>\n",
       "      <td>[Polska]</td>\n",
       "      <td>4.9</td>\n",
       "      <td>[Bruce Parramore]</td>\n",
       "      <td>[Maciej Kowalewski]</td>\n",
       "      <td>[Polski Instytut Sztuki Filmowej, TVN]</td>\n",
       "      <td>Kochaj i tańcz</td>\n",
       "      <td>...</td>\n",
       "      <td>0</td>\n",
       "      <td>0</td>\n",
       "      <td>0</td>\n",
       "      <td>0</td>\n",
       "      <td>0</td>\n",
       "      <td>0</td>\n",
       "      <td>0</td>\n",
       "      <td>0</td>\n",
       "      <td>0</td>\n",
       "      <td>0</td>\n",
       "    </tr>\n",
       "    <tr>\n",
       "      <th>2</th>\n",
       "      <td>[Brian Hallisay, Sarah Habel, John Hensley, Th...</td>\n",
       "      <td>2011.0</td>\n",
       "      <td>[Horror]</td>\n",
       "      <td>2011-12-23</td>\n",
       "      <td>[USA]</td>\n",
       "      <td>4.9</td>\n",
       "      <td>[Scott Spiegel]</td>\n",
       "      <td>[Michael D. Weiss]</td>\n",
       "      <td>[Raw Nerve, RCR Media Group, Stage 6 Films]</td>\n",
       "      <td>Hostel 3</td>\n",
       "      <td>...</td>\n",
       "      <td>0</td>\n",
       "      <td>0</td>\n",
       "      <td>0</td>\n",
       "      <td>1</td>\n",
       "      <td>0</td>\n",
       "      <td>0</td>\n",
       "      <td>0</td>\n",
       "      <td>0</td>\n",
       "      <td>0</td>\n",
       "      <td>0</td>\n",
       "    </tr>\n",
       "    <tr>\n",
       "      <th>3</th>\n",
       "      <td>[Kinga Preis, Tomasz Karolak, Joanna Kulig, Ja...</td>\n",
       "      <td>2010.0</td>\n",
       "      <td>[Dramat, Komedia obycz.]</td>\n",
       "      <td>2011-05-13</td>\n",
       "      <td>[Polska]</td>\n",
       "      <td>4.9</td>\n",
       "      <td>[Janusz Kondratiuk]</td>\n",
       "      <td>[Janusz Kondratiuk, Dominik W. Rettinger]</td>\n",
       "      <td>[HBO Polska]</td>\n",
       "      <td>Milion dolarów</td>\n",
       "      <td>...</td>\n",
       "      <td>0</td>\n",
       "      <td>0</td>\n",
       "      <td>0</td>\n",
       "      <td>0</td>\n",
       "      <td>0</td>\n",
       "      <td>0</td>\n",
       "      <td>0</td>\n",
       "      <td>0</td>\n",
       "      <td>0</td>\n",
       "      <td>0</td>\n",
       "    </tr>\n",
       "    <tr>\n",
       "      <th>4</th>\n",
       "      <td>[Christa Campbell, Ving Rhames, Nick Cannon, A...</td>\n",
       "      <td>2008.0</td>\n",
       "      <td>[Horror]</td>\n",
       "      <td>2008-04-08</td>\n",
       "      <td>[USA]</td>\n",
       "      <td>4.9</td>\n",
       "      <td>[Steve Miner]</td>\n",
       "      <td>[Jeffrey Reddick]</td>\n",
       "      <td>[Millennium Films]</td>\n",
       "      <td>Dzień żywych trupów</td>\n",
       "      <td>...</td>\n",
       "      <td>0</td>\n",
       "      <td>0</td>\n",
       "      <td>0</td>\n",
       "      <td>1</td>\n",
       "      <td>0</td>\n",
       "      <td>0</td>\n",
       "      <td>0</td>\n",
       "      <td>0</td>\n",
       "      <td>0</td>\n",
       "      <td>0</td>\n",
       "    </tr>\n",
       "  </tbody>\n",
       "</table>\n",
       "<p>5 rows × 104 columns</p>\n",
       "</div>"
      ],
      "text/plain": [
       "                                              actors  date of production  \\\n",
       "0  [Marcin Dorociński, Urszula Grabowska, Karolin...              2009.0   \n",
       "1  [Izabella Miko, Mateusz Damięcki, Mariusz Słup...              2009.0   \n",
       "2  [Brian Hallisay, Sarah Habel, John Hensley, Th...              2011.0   \n",
       "3  [Kinga Preis, Tomasz Karolak, Joanna Kulig, Ja...              2010.0   \n",
       "4  [Christa Campbell, Ving Rhames, Nick Cannon, A...              2008.0   \n",
       "\n",
       "                      genre   premiere production  rating  \\\n",
       "0            [Komedia rom.] 2009-08-21   [Polska]     4.9   \n",
       "1  [Komedia rom., Muzyczny] 2009-03-06   [Polska]     4.9   \n",
       "2                  [Horror] 2011-12-23      [USA]     4.9   \n",
       "3  [Dramat, Komedia obycz.] 2011-05-13   [Polska]     4.9   \n",
       "4                  [Horror] 2008-04-08      [USA]     4.9   \n",
       "\n",
       "             directing                                   scenario  \\\n",
       "0     [Krzysztof Lang]       [Anita Nawrocka, Paweł Trześniowski]   \n",
       "1    [Bruce Parramore]                        [Maciej Kowalewski]   \n",
       "2      [Scott Spiegel]                         [Michael D. Weiss]   \n",
       "3  [Janusz Kondratiuk]  [Janusz Kondratiuk, Dominik W. Rettinger]   \n",
       "4        [Steve Miner]                          [Jeffrey Reddick]   \n",
       "\n",
       "                                        studio                title  ...  \\\n",
       "0             [Agencja Media Plus, Kino Świat]    Miłość na wybiegu  ...   \n",
       "1       [Polski Instytut Sztuki Filmowej, TVN]       Kochaj i tańcz  ...   \n",
       "2  [Raw Nerve, RCR Media Group, Stage 6 Films]             Hostel 3  ...   \n",
       "3                                 [HBO Polska]       Milion dolarów  ...   \n",
       "4                           [Millennium Films]  Dzień żywych trupów  ...   \n",
       "\n",
       "  prod_Szwecja prod_Tajlandia prod_Turcja  prod_USA  prod_Wenezuela  \\\n",
       "0            0              0           0         0               0   \n",
       "1            0              0           0         0               0   \n",
       "2            0              0           0         1               0   \n",
       "3            0              0           0         0               0   \n",
       "4            0              0           0         1               0   \n",
       "\n",
       "   prod_Wielka Brytania  prod_Węgry  prod_Włochy  prod_ZSRR  \\\n",
       "0                     0           0            0          0   \n",
       "1                     0           0            0          0   \n",
       "2                     0           0            0          0   \n",
       "3                     0           0            0          0   \n",
       "4                     0           0            0          0   \n",
       "\n",
       "   prod_Zjednoczone Emiraty Arabskie  \n",
       "0                                  0  \n",
       "1                                  0  \n",
       "2                                  0  \n",
       "3                                  0  \n",
       "4                                  0  \n",
       "\n",
       "[5 rows x 104 columns]"
      ]
     },
     "execution_count": 173,
     "metadata": {},
     "output_type": "execute_result"
    }
   ],
   "source": [
    "movies_info_table.head()"
   ]
  },
  {
   "cell_type": "code",
   "execution_count": 238,
   "metadata": {},
   "outputs": [
    {
     "data": {
      "text/plain": [
       "<matplotlib.axes._subplots.AxesSubplot at 0x1778b5f0088>"
      ]
     },
     "execution_count": 238,
     "metadata": {},
     "output_type": "execute_result"
    },
    {
     "data": {
      "image/png": "[encoded data removed]",
      "text/plain": [
       "<Figure size 432x288 with 2 Axes>"
      ]
     },
     "metadata": {
      "needs_background": "light"
     },
     "output_type": "display_data"
    }
   ],
   "source": [
    "#checking NaN values\n",
    "sns.heatmap(movies_info_table.isnull())"
   ]
  },
  {
   "cell_type": "markdown",
   "metadata": {
    "tags": []
   },
   "source": [
    "## Exploratory data analysis"
   ]
  },
  {
   "cell_type": "code",
   "execution_count": 2,
   "metadata": {},
   "outputs": [],
   "source": [
    "movies_info = pd.read_json('data/filmweb_data')"
   ]
  },
  {
   "cell_type": "code",
   "execution_count": 3,
   "metadata": {},
   "outputs": [
    {
     "data": {
      "text/plain": [
       "<matplotlib.axes._subplots.AxesSubplot at 0x24dd131eb48>"
      ]
     },
     "execution_count": 3,
     "metadata": {},
     "output_type": "execute_result"
    },
    {
     "data": {
      "image/png": "[encoded data removed]",
      "text/plain": [
       "<Figure size 432x288 with 2 Axes>"
      ]
     },
     "metadata": {
      "needs_background": "light"
     },
     "output_type": "display_data"
    }
   ],
   "source": [
    "sns.heatmap(movies_info[['date of production','rating','num of famous actors and actresses',\n",
    "                               'num of famous directors','num of famous screenwriters']].corr(), cmap='coolwarm')"
   ]
  },
  {
   "cell_type": "markdown",
   "metadata": {},
   "source": [
    "We can see that big impact on a rating has a number of famous directors and screenwriters. Number of famous actors and actresses has smaller impact. Now we will check how a mean rating depends on a different variables."
   ]
  },
  {
   "cell_type": "markdown",
   "metadata": {},
   "source": [
    "Now we will check mean rating of movies produced in different countries"
   ]
  },
  {
   "cell_type": "code",
   "execution_count": 5,
   "metadata": {},
   "outputs": [
    {
     "data": {
      "text/html": [
       "<div>\n",
       "<style scoped>\n",
       "    .dataframe tbody tr th:only-of-type {\n",
       "        vertical-align: middle;\n",
       "    }\n",
       "\n",
       "    .dataframe tbody tr th {\n",
       "        vertical-align: top;\n",
       "    }\n",
       "\n",
       "    .dataframe thead th {\n",
       "        text-align: right;\n",
       "    }\n",
       "</style>\n",
       "<table border=\"1\" class=\"dataframe\">\n",
       "  <thead>\n",
       "    <tr style=\"text-align: right;\">\n",
       "      <th></th>\n",
       "      <th>mean_rating</th>\n",
       "      <th>no_movies</th>\n",
       "    </tr>\n",
       "    <tr>\n",
       "      <th>country</th>\n",
       "      <th></th>\n",
       "      <th></th>\n",
       "    </tr>\n",
       "  </thead>\n",
       "  <tbody>\n",
       "    <tr>\n",
       "      <th>Brazylia</th>\n",
       "      <td>8.166667</td>\n",
       "      <td>3.0</td>\n",
       "    </tr>\n",
       "    <tr>\n",
       "      <th>Islandia</th>\n",
       "      <td>7.933333</td>\n",
       "      <td>3.0</td>\n",
       "    </tr>\n",
       "    <tr>\n",
       "      <th>RFN</th>\n",
       "      <td>7.920000</td>\n",
       "      <td>10.0</td>\n",
       "    </tr>\n",
       "    <tr>\n",
       "      <th>ZSRR</th>\n",
       "      <td>7.760000</td>\n",
       "      <td>5.0</td>\n",
       "    </tr>\n",
       "    <tr>\n",
       "      <th>Japonia</th>\n",
       "      <td>7.634375</td>\n",
       "      <td>32.0</td>\n",
       "    </tr>\n",
       "    <tr>\n",
       "      <th>Austria</th>\n",
       "      <td>7.566667</td>\n",
       "      <td>3.0</td>\n",
       "    </tr>\n",
       "    <tr>\n",
       "      <th>Holandia</th>\n",
       "      <td>7.500000</td>\n",
       "      <td>3.0</td>\n",
       "    </tr>\n",
       "    <tr>\n",
       "      <th>Hongkong</th>\n",
       "      <td>7.457143</td>\n",
       "      <td>7.0</td>\n",
       "    </tr>\n",
       "    <tr>\n",
       "      <th>Włochy</th>\n",
       "      <td>7.403571</td>\n",
       "      <td>28.0</td>\n",
       "    </tr>\n",
       "    <tr>\n",
       "      <th>Szwecja</th>\n",
       "      <td>7.353846</td>\n",
       "      <td>13.0</td>\n",
       "    </tr>\n",
       "    <tr>\n",
       "      <th>Korea Południowa</th>\n",
       "      <td>7.328571</td>\n",
       "      <td>7.0</td>\n",
       "    </tr>\n",
       "    <tr>\n",
       "      <th>Indie</th>\n",
       "      <td>7.300000</td>\n",
       "      <td>3.0</td>\n",
       "    </tr>\n",
       "    <tr>\n",
       "      <th>Zjednoczone Emiraty Arabskie</th>\n",
       "      <td>7.275000</td>\n",
       "      <td>4.0</td>\n",
       "    </tr>\n",
       "    <tr>\n",
       "      <th>Luksemburg</th>\n",
       "      <td>7.200000</td>\n",
       "      <td>4.0</td>\n",
       "    </tr>\n",
       "    <tr>\n",
       "      <th>Nowa Zelandia</th>\n",
       "      <td>7.200000</td>\n",
       "      <td>6.0</td>\n",
       "    </tr>\n",
       "    <tr>\n",
       "      <th>Chiny</th>\n",
       "      <td>7.200000</td>\n",
       "      <td>7.0</td>\n",
       "    </tr>\n",
       "    <tr>\n",
       "      <th>Irlandia</th>\n",
       "      <td>7.086667</td>\n",
       "      <td>15.0</td>\n",
       "    </tr>\n",
       "    <tr>\n",
       "      <th>Wielka Brytania</th>\n",
       "      <td>7.037903</td>\n",
       "      <td>124.0</td>\n",
       "    </tr>\n",
       "    <tr>\n",
       "      <th>Francja</th>\n",
       "      <td>7.026374</td>\n",
       "      <td>91.0</td>\n",
       "    </tr>\n",
       "    <tr>\n",
       "      <th>Meksyk</th>\n",
       "      <td>6.900000</td>\n",
       "      <td>3.0</td>\n",
       "    </tr>\n",
       "    <tr>\n",
       "      <th>Czechy</th>\n",
       "      <td>6.850000</td>\n",
       "      <td>6.0</td>\n",
       "    </tr>\n",
       "    <tr>\n",
       "      <th>Dania</th>\n",
       "      <td>6.846154</td>\n",
       "      <td>13.0</td>\n",
       "    </tr>\n",
       "    <tr>\n",
       "      <th>Australia</th>\n",
       "      <td>6.825000</td>\n",
       "      <td>12.0</td>\n",
       "    </tr>\n",
       "    <tr>\n",
       "      <th>Niemcy</th>\n",
       "      <td>6.778462</td>\n",
       "      <td>65.0</td>\n",
       "    </tr>\n",
       "    <tr>\n",
       "      <th>Węgry</th>\n",
       "      <td>6.700000</td>\n",
       "      <td>7.0</td>\n",
       "    </tr>\n",
       "    <tr>\n",
       "      <th>USA</th>\n",
       "      <td>6.684375</td>\n",
       "      <td>576.0</td>\n",
       "    </tr>\n",
       "    <tr>\n",
       "      <th>Norwegia</th>\n",
       "      <td>6.660000</td>\n",
       "      <td>5.0</td>\n",
       "    </tr>\n",
       "    <tr>\n",
       "      <th>Hiszpania</th>\n",
       "      <td>6.637500</td>\n",
       "      <td>24.0</td>\n",
       "    </tr>\n",
       "    <tr>\n",
       "      <th>Belgia</th>\n",
       "      <td>6.490909</td>\n",
       "      <td>11.0</td>\n",
       "    </tr>\n",
       "    <tr>\n",
       "      <th>Szwajcaria</th>\n",
       "      <td>6.450000</td>\n",
       "      <td>4.0</td>\n",
       "    </tr>\n",
       "    <tr>\n",
       "      <th>Bułgaria</th>\n",
       "      <td>6.375000</td>\n",
       "      <td>4.0</td>\n",
       "    </tr>\n",
       "    <tr>\n",
       "      <th>Kanada</th>\n",
       "      <td>6.284000</td>\n",
       "      <td>50.0</td>\n",
       "    </tr>\n",
       "    <tr>\n",
       "      <th>Polska</th>\n",
       "      <td>6.216794</td>\n",
       "      <td>131.0</td>\n",
       "    </tr>\n",
       "    <tr>\n",
       "      <th>Rosja</th>\n",
       "      <td>5.783333</td>\n",
       "      <td>6.0</td>\n",
       "    </tr>\n",
       "  </tbody>\n",
       "</table>\n",
       "</div>"
      ],
      "text/plain": [
       "                              mean_rating  no_movies\n",
       "country                                             \n",
       "Brazylia                         8.166667        3.0\n",
       "Islandia                         7.933333        3.0\n",
       "RFN                              7.920000       10.0\n",
       "ZSRR                             7.760000        5.0\n",
       "Japonia                          7.634375       32.0\n",
       "Austria                          7.566667        3.0\n",
       "Holandia                         7.500000        3.0\n",
       "Hongkong                         7.457143        7.0\n",
       "Włochy                           7.403571       28.0\n",
       "Szwecja                          7.353846       13.0\n",
       "Korea Południowa                 7.328571        7.0\n",
       "Indie                            7.300000        3.0\n",
       "Zjednoczone Emiraty Arabskie     7.275000        4.0\n",
       "Luksemburg                       7.200000        4.0\n",
       "Nowa Zelandia                    7.200000        6.0\n",
       "Chiny                            7.200000        7.0\n",
       "Irlandia                         7.086667       15.0\n",
       "Wielka Brytania                  7.037903      124.0\n",
       "Francja                          7.026374       91.0\n",
       "Meksyk                           6.900000        3.0\n",
       "Czechy                           6.850000        6.0\n",
       "Dania                            6.846154       13.0\n",
       "Australia                        6.825000       12.0\n",
       "Niemcy                           6.778462       65.0\n",
       "Węgry                            6.700000        7.0\n",
       "USA                              6.684375      576.0\n",
       "Norwegia                         6.660000        5.0\n",
       "Hiszpania                        6.637500       24.0\n",
       "Belgia                           6.490909       11.0\n",
       "Szwajcaria                       6.450000        4.0\n",
       "Bułgaria                         6.375000        4.0\n",
       "Kanada                           6.284000       50.0\n",
       "Polska                           6.216794      131.0\n",
       "Rosja                            5.783333        6.0"
      ]
     },
     "execution_count": 5,
     "metadata": {},
     "output_type": "execute_result"
    }
   ],
   "source": [
    "countries = []\n",
    "\n",
    "for column in movies_info.columns:\n",
    "    if 'prod_' in column:\n",
    "        countries.append(column.split('_')[-1])\n",
    "        \n",
    "countries_mean_ratings = pd.DataFrame({'country': countries})\n",
    "countries_mean_ratings.set_index('country', inplace = True)\n",
    "countries_mean_ratings['mean_rating'] = np.nan\n",
    "countries_mean_ratings['no_movies'] = np.nan\n",
    "        \n",
    "for country in countries:\n",
    "    mean_value = movies_info[movies_info.production.apply(lambda x: country in x)].rating.mean()\n",
    "    no_movies = len(movies_info[movies_info.production.apply(lambda x: country in x)])\n",
    "    countries_mean_ratings.loc[country] = [mean_value, no_movies]\n",
    "    \n",
    "countries_mean_ratings[countries_mean_ratings.no_movies >= 3].sort_values('mean_rating', ascending = False)\n",
    "# countries_mean_ratings"
   ]
  },
  {
   "cell_type": "markdown",
   "metadata": {},
   "source": [
    "We see that countries which have the biggest mean rating have also very little number of movies produced."
   ]
  },
  {
   "cell_type": "code",
   "execution_count": 6,
   "metadata": {},
   "outputs": [
    {
     "data": {
      "image/png": "[encoded data removed]",
      "text/plain": [
       "<Figure size 864x216 with 1 Axes>"
      ]
     },
     "metadata": {
      "needs_background": "light"
     },
     "output_type": "display_data"
    }
   ],
   "source": [
    "fig,axes = plt.subplots(figsize=(12,3))\n",
    "axes.plot(movies_info.groupby('num of famous actors and actresses').rating.mean())\n",
    "axes.set_ylabel('mean rating')\n",
    "axes.set_xlabel('num of famous actors and ctresses')\n",
    "plt.tight_layout()"
   ]
  },
  {
   "cell_type": "markdown",
   "metadata": {},
   "source": [
    "A number of famous actors doesn't seem to have a big impact on a rating, only movies with at least 5 famous actors has significantly bigger mean rating."
   ]
  },
  {
   "cell_type": "code",
   "execution_count": 25,
   "metadata": {},
   "outputs": [
    {
     "data": {
      "text/plain": [
       "<matplotlib.axes._subplots.AxesSubplot at 0x24df8233c08>"
      ]
     },
     "execution_count": 25,
     "metadata": {},
     "output_type": "execute_result"
    },
    {
     "data": {
      "image/png": "[encoded data removed]",
      "text/plain": [
       "<Figure size 2160x1080 with 1 Axes>"
      ]
     },
     "metadata": {
      "needs_background": "light"
     },
     "output_type": "display_data"
    }
   ],
   "source": [
    "fig, axes = plt.subplots(figsize = (30, 15))\n",
    "\n",
    "no_famous_actors = 0\n",
    "sns.violinplot(data = movies_info, y = 'rating', x = 'num of famous actors and actresses')"
   ]
  },
  {
   "cell_type": "markdown",
   "metadata": {},
   "source": [
    "Here another graph shows that movies with 0-4 famous actors and actresses have similar rating distribution but when we have 5 or 7 then we have much higher ratings."
   ]
  },
  {
   "cell_type": "code",
   "execution_count": 290,
   "metadata": {
    "scrolled": true
   },
   "outputs": [
    {
     "data": {
      "text/html": [
       "<div>\n",
       "<style scoped>\n",
       "    .dataframe tbody tr th:only-of-type {\n",
       "        vertical-align: middle;\n",
       "    }\n",
       "\n",
       "    .dataframe tbody tr th {\n",
       "        vertical-align: top;\n",
       "    }\n",
       "\n",
       "    .dataframe thead th {\n",
       "        text-align: right;\n",
       "    }\n",
       "</style>\n",
       "<table border=\"1\" class=\"dataframe\">\n",
       "  <thead>\n",
       "    <tr style=\"text-align: right;\">\n",
       "      <th></th>\n",
       "      <th>rating</th>\n",
       "    </tr>\n",
       "    <tr>\n",
       "      <th>num of famous directors</th>\n",
       "      <th></th>\n",
       "    </tr>\n",
       "  </thead>\n",
       "  <tbody>\n",
       "    <tr>\n",
       "      <th>1</th>\n",
       "      <td>7.818182</td>\n",
       "    </tr>\n",
       "    <tr>\n",
       "      <th>0</th>\n",
       "      <td>6.100000</td>\n",
       "    </tr>\n",
       "  </tbody>\n",
       "</table>\n",
       "</div>"
      ],
      "text/plain": [
       "                           rating\n",
       "num of famous directors          \n",
       "1                        7.818182\n",
       "0                        6.100000"
      ]
     },
     "execution_count": 290,
     "metadata": {},
     "output_type": "execute_result"
    }
   ],
   "source": [
    "pd.DataFrame(movies_info.groupby('num of famous directors').rating.mean().sort_values(ascending=False))"
   ]
  },
  {
   "cell_type": "code",
   "execution_count": 291,
   "metadata": {},
   "outputs": [
    {
     "data": {
      "text/html": [
       "<div>\n",
       "<style scoped>\n",
       "    .dataframe tbody tr th:only-of-type {\n",
       "        vertical-align: middle;\n",
       "    }\n",
       "\n",
       "    .dataframe tbody tr th {\n",
       "        vertical-align: top;\n",
       "    }\n",
       "\n",
       "    .dataframe thead th {\n",
       "        text-align: right;\n",
       "    }\n",
       "</style>\n",
       "<table border=\"1\" class=\"dataframe\">\n",
       "  <thead>\n",
       "    <tr style=\"text-align: right;\">\n",
       "      <th></th>\n",
       "      <th>rating</th>\n",
       "    </tr>\n",
       "    <tr>\n",
       "      <th>num of famous screenwriters</th>\n",
       "      <th></th>\n",
       "    </tr>\n",
       "  </thead>\n",
       "  <tbody>\n",
       "    <tr>\n",
       "      <th>2</th>\n",
       "      <td>8.400000</td>\n",
       "    </tr>\n",
       "    <tr>\n",
       "      <th>1</th>\n",
       "      <td>8.380000</td>\n",
       "    </tr>\n",
       "    <tr>\n",
       "      <th>0</th>\n",
       "      <td>6.135294</td>\n",
       "    </tr>\n",
       "  </tbody>\n",
       "</table>\n",
       "</div>"
      ],
      "text/plain": [
       "                               rating\n",
       "num of famous screenwriters          \n",
       "2                            8.400000\n",
       "1                            8.380000\n",
       "0                            6.135294"
      ]
     },
     "execution_count": 291,
     "metadata": {},
     "output_type": "execute_result"
    }
   ],
   "source": [
    "pd.DataFrame(movies_info.groupby('num of famous screenwriters').rating.mean().sort_values(ascending=False))"
   ]
  },
  {
   "cell_type": "markdown",
   "metadata": {},
   "source": [
    "We can see that if we have at least one famous screenwriter or director then a mean rating is much bigger, but there is no difference if we have one or two famous screenwriters or directors."
   ]
  },
  {
   "cell_type": "code",
   "execution_count": 294,
   "metadata": {},
   "outputs": [
    {
     "data": {
      "image/png": "[encoded data removed]",
      "text/plain": [
       "<Figure size 864x216 with 1 Axes>"
      ]
     },
     "metadata": {
      "needs_background": "light"
     },
     "output_type": "display_data"
    }
   ],
   "source": [
    "fig,axes=plt.subplots(figsize=(12,3))\n",
    "axes.plot(movies_info.groupby('date of production').rating.mean())\n",
    "axes.set_xlabel('date of production')\n",
    "axes.set_ylabel('mean rating')\n",
    "plt.tight_layout()"
   ]
  },
  {
   "cell_type": "markdown",
   "metadata": {},
   "source": [
    "The movies produced after around 1980 start to getting smaller mean rate and the biggest drop is between 2019 and 2020. Let's check a number of movies with rating above 7.5 which was produced before and after 1980."
   ]
  },
  {
   "cell_type": "code",
   "execution_count": 68,
   "metadata": {},
   "outputs": [
    {
     "name": "stdout",
     "output_type": "stream",
     "text": [
      "Number of movies with rating above 7.5 produced after 1980: 113\n"
     ]
    }
   ],
   "source": [
    "print('Number of movies with rating above 7.5 produced after 1980: {}'\n",
    "      .format(df1[(df1['date of production']>1980)&(df1['rating']>7.5)]['rating'].count()))"
   ]
  },
  {
   "cell_type": "code",
   "execution_count": 69,
   "metadata": {},
   "outputs": [
    {
     "name": "stdout",
     "output_type": "stream",
     "text": [
      "Number of movies with rating above 7.5 produced before 1980: 67\n"
     ]
    }
   ],
   "source": [
    "print('Number of movies with rating above 7.5 produced before 1980: {}'\n",
    "      .format(df1[(df1['date of production']<1980)&(df1['rating']>7.5)]['rating'].count()))"
   ]
  },
  {
   "cell_type": "markdown",
   "metadata": {},
   "source": [
    "We can see that even though a mean rating of movies produced after 1980 start to getting smaller, a number of movies with a rating above 7.5 is almost two times bigger. Now let's see what are the movies with the biggest revenue and how it depends on a number of famous actors, screenwriters and directors."
   ]
  },
  {
   "cell_type": "markdown",
   "metadata": {},
   "source": [
    "Now we will create some models and try to predict a rating of a movie. In order to check which one is the best we will calculate a root mean square error."
   ]
  },
  {
   "cell_type": "markdown",
   "metadata": {
    "tags": []
   },
   "source": [
    "## content based recommendation system"
   ]
  },
  {
   "cell_type": "markdown",
   "metadata": {},
   "source": [
    "Here I recommend movies which have similar features like actors, screenwriters, genre and so on."
   ]
  },
  {
   "cell_type": "code",
   "execution_count": 27,
   "metadata": {},
   "outputs": [],
   "source": [
    "movies_info = pd.read_json('data/filmweb_data')"
   ]
  },
  {
   "cell_type": "code",
   "execution_count": 28,
   "metadata": {},
   "outputs": [
    {
     "data": {
      "text/plain": [
       "(902, 140)"
      ]
     },
     "execution_count": 28,
     "metadata": {},
     "output_type": "execute_result"
    }
   ],
   "source": [
    "movies_info.shape"
   ]
  },
  {
   "cell_type": "code",
   "execution_count": 29,
   "metadata": {},
   "outputs": [
    {
     "data": {
      "text/html": [
       "<div>\n",
       "<style scoped>\n",
       "    .dataframe tbody tr th:only-of-type {\n",
       "        vertical-align: middle;\n",
       "    }\n",
       "\n",
       "    .dataframe tbody tr th {\n",
       "        vertical-align: top;\n",
       "    }\n",
       "\n",
       "    .dataframe thead th {\n",
       "        text-align: right;\n",
       "    }\n",
       "</style>\n",
       "<table border=\"1\" class=\"dataframe\">\n",
       "  <thead>\n",
       "    <tr style=\"text-align: right;\">\n",
       "      <th></th>\n",
       "      <th>actors</th>\n",
       "      <th>date of production</th>\n",
       "      <th>genre</th>\n",
       "      <th>premiere</th>\n",
       "      <th>production</th>\n",
       "      <th>rating</th>\n",
       "      <th>directing</th>\n",
       "      <th>scenario</th>\n",
       "      <th>studio</th>\n",
       "      <th>title</th>\n",
       "    </tr>\n",
       "  </thead>\n",
       "  <tbody>\n",
       "    <tr>\n",
       "      <th>0</th>\n",
       "      <td>[Marcin Dorociński, Urszula Grabowska, Karolin...</td>\n",
       "      <td>2009</td>\n",
       "      <td>[Komedia rom.]</td>\n",
       "      <td>1.250813e+12</td>\n",
       "      <td>[Polska]</td>\n",
       "      <td>4.9</td>\n",
       "      <td>[Krzysztof Lang]</td>\n",
       "      <td>[Anita Nawrocka, Paweł Trześniowski]</td>\n",
       "      <td>[Agencja Media Plus, Kino Świat]</td>\n",
       "      <td>Miłość na wybiegu</td>\n",
       "    </tr>\n",
       "    <tr>\n",
       "      <th>1</th>\n",
       "      <td>[Izabella Miko, Mateusz Damięcki, Mariusz Słup...</td>\n",
       "      <td>2009</td>\n",
       "      <td>[Komedia rom., Muzyczny]</td>\n",
       "      <td>1.236298e+12</td>\n",
       "      <td>[Polska]</td>\n",
       "      <td>4.9</td>\n",
       "      <td>[Bruce Parramore]</td>\n",
       "      <td>[Maciej Kowalewski]</td>\n",
       "      <td>[Polski Instytut Sztuki Filmowej, TVN]</td>\n",
       "      <td>Kochaj i tańcz</td>\n",
       "    </tr>\n",
       "    <tr>\n",
       "      <th>2</th>\n",
       "      <td>[Brian Hallisay, Sarah Habel, John Hensley, Th...</td>\n",
       "      <td>2011</td>\n",
       "      <td>[Horror]</td>\n",
       "      <td>1.324598e+12</td>\n",
       "      <td>[USA]</td>\n",
       "      <td>4.9</td>\n",
       "      <td>[Scott Spiegel]</td>\n",
       "      <td>[Michael D. Weiss]</td>\n",
       "      <td>[Raw Nerve, RCR Media Group, Stage 6 Films]</td>\n",
       "      <td>Hostel 3</td>\n",
       "    </tr>\n",
       "    <tr>\n",
       "      <th>3</th>\n",
       "      <td>[Kinga Preis, Tomasz Karolak, Joanna Kulig, Ja...</td>\n",
       "      <td>2010</td>\n",
       "      <td>[Dramat, Komedia obycz.]</td>\n",
       "      <td>1.305245e+12</td>\n",
       "      <td>[Polska]</td>\n",
       "      <td>4.9</td>\n",
       "      <td>[Janusz Kondratiuk]</td>\n",
       "      <td>[Janusz Kondratiuk, Dominik W. Rettinger]</td>\n",
       "      <td>[HBO Polska]</td>\n",
       "      <td>Milion dolarów</td>\n",
       "    </tr>\n",
       "    <tr>\n",
       "      <th>4</th>\n",
       "      <td>[Christa Campbell, Ving Rhames, Nick Cannon, A...</td>\n",
       "      <td>2008</td>\n",
       "      <td>[Horror]</td>\n",
       "      <td>1.207613e+12</td>\n",
       "      <td>[USA]</td>\n",
       "      <td>4.9</td>\n",
       "      <td>[Steve Miner]</td>\n",
       "      <td>[Jeffrey Reddick]</td>\n",
       "      <td>[Millennium Films]</td>\n",
       "      <td>Dzień żywych trupów</td>\n",
       "    </tr>\n",
       "  </tbody>\n",
       "</table>\n",
       "</div>"
      ],
      "text/plain": [
       "                                              actors  date of production  \\\n",
       "0  [Marcin Dorociński, Urszula Grabowska, Karolin...                2009   \n",
       "1  [Izabella Miko, Mateusz Damięcki, Mariusz Słup...                2009   \n",
       "2  [Brian Hallisay, Sarah Habel, John Hensley, Th...                2011   \n",
       "3  [Kinga Preis, Tomasz Karolak, Joanna Kulig, Ja...                2010   \n",
       "4  [Christa Campbell, Ving Rhames, Nick Cannon, A...                2008   \n",
       "\n",
       "                      genre      premiere production  rating  \\\n",
       "0            [Komedia rom.]  1.250813e+12   [Polska]     4.9   \n",
       "1  [Komedia rom., Muzyczny]  1.236298e+12   [Polska]     4.9   \n",
       "2                  [Horror]  1.324598e+12      [USA]     4.9   \n",
       "3  [Dramat, Komedia obycz.]  1.305245e+12   [Polska]     4.9   \n",
       "4                  [Horror]  1.207613e+12      [USA]     4.9   \n",
       "\n",
       "             directing                                   scenario  \\\n",
       "0     [Krzysztof Lang]       [Anita Nawrocka, Paweł Trześniowski]   \n",
       "1    [Bruce Parramore]                        [Maciej Kowalewski]   \n",
       "2      [Scott Spiegel]                         [Michael D. Weiss]   \n",
       "3  [Janusz Kondratiuk]  [Janusz Kondratiuk, Dominik W. Rettinger]   \n",
       "4        [Steve Miner]                          [Jeffrey Reddick]   \n",
       "\n",
       "                                        studio                title  \n",
       "0             [Agencja Media Plus, Kino Świat]    Miłość na wybiegu  \n",
       "1       [Polski Instytut Sztuki Filmowej, TVN]       Kochaj i tańcz  \n",
       "2  [Raw Nerve, RCR Media Group, Stage 6 Films]             Hostel 3  \n",
       "3                                 [HBO Polska]       Milion dolarów  \n",
       "4                           [Millennium Films]  Dzień żywych trupów  "
      ]
     },
     "execution_count": 29,
     "metadata": {},
     "output_type": "execute_result"
    }
   ],
   "source": [
    "i = 0\n",
    "movies_info.iloc[ : 5, i * 10 : (i + 1) * 10]"
   ]
  },
  {
   "cell_type": "code",
   "execution_count": 6,
   "metadata": {},
   "outputs": [],
   "source": [
    "# creating soup column (containing all important words from other columnes defined as features)\n",
    "\n",
    "def clean_data1(x):\n",
    "    if isinstance(x, list):\n",
    "        return [str.lower(i.replace(\" \", \"\")) for i in x]\n",
    "    else:\n",
    "        #Check if director exists. If not, return empty string\n",
    "        if isinstance(x, str):\n",
    "            return str.lower(x.replace(\" \", \"\"))\n",
    "        else:\n",
    "            return ''\n",
    "        \n",
    "def clean_data2(x):\n",
    "    if isinstance(x, list):\n",
    "        return [str.lower(i) for i in x]\n",
    "    else:\n",
    "        #Check if director exists. If not, return empty string\n",
    "        if isinstance(x, str):\n",
    "            return str.lower(x.replace(\" \", \"\"))\n",
    "        else:\n",
    "            return ''\n",
    "\n",
    "features = ['genre', 'actors', 'directing', 'scenario', 'studio']\n",
    "features_columns = pd.DataFrame()\n",
    "\n",
    "for feature in features:\n",
    "    if feature != 'genre':\n",
    "        features_columns = pd.concat((features_columns, movies_info[feature].apply(lambda x: clean_data1(x))), axis = 1)\n",
    "    else:features_columns = pd.concat((features_columns, movies_info[feature].apply(lambda x: clean_data2(x))), axis = 1)\n",
    "        \n",
    "    \n",
    "movies_info['soup'] = features_columns.apply(lambda x: ' '.join(x[0]) + ' ' + ' '.join(x[1]) + ' ' + ' '.join(x[2]) + ' ' + ' '.join(x[3]) + ' ' + ' '.join(x[4]), axis = 1)"
   ]
  },
  {
   "cell_type": "code",
   "execution_count": 9,
   "metadata": {},
   "outputs": [
    {
     "data": {
      "text/plain": [
       "'komedia rom. marcindorociński urszulagrabowska karolinagorczyca tomaszkarolak enriquealcides patriciakazadi karolinamalinowska-janiak ilonamontana olgafrycz mareklitewka zbigniewlesień mateuszjanicki krzysztoflang anitanawrocka pawełtrześniowski agencjamediaplus kinoświat'"
      ]
     },
     "execution_count": 9,
     "metadata": {},
     "output_type": "execute_result"
    }
   ],
   "source": [
    "movies_info.soup.iloc[0]"
   ]
  },
  {
   "cell_type": "code",
   "execution_count": 10,
   "metadata": {},
   "outputs": [],
   "source": [
    "vectorizer = CountVectorizer()\n",
    "movies_vectors = vectorizer.fit_transform(movies_info['soup'])"
   ]
  },
  {
   "cell_type": "code",
   "execution_count": 11,
   "metadata": {},
   "outputs": [],
   "source": [
    "movies_similarities = cosine_similarity(movies_vectors, movies_vectors)"
   ]
  },
  {
   "cell_type": "code",
   "execution_count": 16,
   "metadata": {},
   "outputs": [],
   "source": [
    "def get_recommendations(dataframe, title, similarities):\n",
    "    # Get the index of the movie that matches the title\n",
    "    idx = dataframe[dataframe.title == title].index[0]\n",
    "\n",
    "    # create table with titles and their similarity scores\n",
    "    scores = pd.DataFrame(dataframe.title)\n",
    "    scores['score'] = pd.DataFrame(similarities[idx])\n",
    "    \n",
    "    # select the top 10 most similar movies\n",
    "    recom_movies = scores.sort_values(by = 'score', ascending = False).title.iloc[1 : 11]\n",
    "\n",
    "    return recom_movies"
   ]
  },
  {
   "cell_type": "code",
   "execution_count": 20,
   "metadata": {},
   "outputs": [
    {
     "name": "stdout",
     "output_type": "stream",
     "text": [
      "Miłość na wybiegu \n",
      "\n"
     ]
    },
    {
     "data": {
      "text/plain": [
       "116    Idealny facet dla mojej dziewczyny\n",
       "131                    Miłość do kwadratu\n",
       "222                     Tylko mnie kochaj\n",
       "477                           Listy do M.\n",
       "215                    Narzeczony na niby\n",
       "274                          Rozmowy nocą\n",
       "105                    Pech to nie grzech\n",
       "37               Dzień dobry, kocham cię!\n",
       "193              Pokojówka na Manhattanie\n",
       "245             Anglik, który mnie kochał\n",
       "Name: title, dtype: object"
      ]
     },
     "execution_count": 20,
     "metadata": {},
     "output_type": "execute_result"
    }
   ],
   "source": [
    "# check recommendations\n",
    "\n",
    "title = movies_info.loc[0, 'title']\n",
    "print(title, '\\n')\n",
    "get_recommendations(movies_info, title, movies_similarities)"
   ]
  },
  {
   "cell_type": "code",
   "execution_count": null,
   "metadata": {},
   "outputs": [],
   "source": []
  },
  {
   "cell_type": "code",
   "execution_count": null,
   "metadata": {},
   "outputs": [],
   "source": []
  },
  {
   "cell_type": "markdown",
   "metadata": {
    "jp-MarkdownHeadingCollapsed": true,
    "tags": []
   },
   "source": [
    "## Regression with Support Vector Regression"
   ]
  },
  {
   "cell_type": "code",
   "execution_count": 6,
   "metadata": {},
   "outputs": [],
   "source": [
    "movies_info = pd.read_json('data/filmweb_data')"
   ]
  },
  {
   "cell_type": "code",
   "execution_count": 7,
   "metadata": {},
   "outputs": [],
   "source": [
    "# remove columns with non numerical values\n",
    "\n",
    "for column in movies_info.dtypes.index:\n",
    "    if movies_info.dtypes.loc[column] not in ['int64', 'float64']:\n",
    "        # print(column)\n",
    "        movies_info.drop(column, inplace = True, axis = 1)"
   ]
  },
  {
   "cell_type": "code",
   "execution_count": 91,
   "metadata": {},
   "outputs": [
    {
     "data": {
      "text/html": [
       "<div>\n",
       "<style scoped>\n",
       "    .dataframe tbody tr th:only-of-type {\n",
       "        vertical-align: middle;\n",
       "    }\n",
       "\n",
       "    .dataframe tbody tr th {\n",
       "        vertical-align: top;\n",
       "    }\n",
       "\n",
       "    .dataframe thead th {\n",
       "        text-align: right;\n",
       "    }\n",
       "</style>\n",
       "<table border=\"1\" class=\"dataframe\">\n",
       "  <thead>\n",
       "    <tr style=\"text-align: right;\">\n",
       "      <th></th>\n",
       "      <th>date of production</th>\n",
       "      <th>premiere</th>\n",
       "      <th>rating</th>\n",
       "      <th>num of famous actors and actresses</th>\n",
       "      <th>num of famous directors</th>\n",
       "      <th>num of famous screenwriters</th>\n",
       "      <th>Akcja</th>\n",
       "      <th>Animacja</th>\n",
       "      <th>Animacja dla dorosłych</th>\n",
       "      <th>Anime</th>\n",
       "      <th>...</th>\n",
       "      <th>prod_Tunezja</th>\n",
       "      <th>prod_Turcja</th>\n",
       "      <th>prod_USA</th>\n",
       "      <th>prod_Wenezuela</th>\n",
       "      <th>prod_Wielka Brytania</th>\n",
       "      <th>prod_Węgry</th>\n",
       "      <th>prod_Włochy</th>\n",
       "      <th>prod_ZSRR</th>\n",
       "      <th>prod_Zjednoczone Emiraty Arabskie</th>\n",
       "      <th>prod_Łotwa</th>\n",
       "    </tr>\n",
       "  </thead>\n",
       "  <tbody>\n",
       "    <tr>\n",
       "      <th>0</th>\n",
       "      <td>2009</td>\n",
       "      <td>1.250813e+12</td>\n",
       "      <td>4.9</td>\n",
       "      <td>1</td>\n",
       "      <td>0</td>\n",
       "      <td>0</td>\n",
       "      <td>0</td>\n",
       "      <td>0</td>\n",
       "      <td>0</td>\n",
       "      <td>0</td>\n",
       "      <td>...</td>\n",
       "      <td>0</td>\n",
       "      <td>0</td>\n",
       "      <td>0</td>\n",
       "      <td>0</td>\n",
       "      <td>0</td>\n",
       "      <td>0</td>\n",
       "      <td>0</td>\n",
       "      <td>0</td>\n",
       "      <td>0</td>\n",
       "      <td>0</td>\n",
       "    </tr>\n",
       "    <tr>\n",
       "      <th>1</th>\n",
       "      <td>2009</td>\n",
       "      <td>1.236298e+12</td>\n",
       "      <td>4.9</td>\n",
       "      <td>0</td>\n",
       "      <td>0</td>\n",
       "      <td>0</td>\n",
       "      <td>0</td>\n",
       "      <td>0</td>\n",
       "      <td>0</td>\n",
       "      <td>0</td>\n",
       "      <td>...</td>\n",
       "      <td>0</td>\n",
       "      <td>0</td>\n",
       "      <td>0</td>\n",
       "      <td>0</td>\n",
       "      <td>0</td>\n",
       "      <td>0</td>\n",
       "      <td>0</td>\n",
       "      <td>0</td>\n",
       "      <td>0</td>\n",
       "      <td>0</td>\n",
       "    </tr>\n",
       "    <tr>\n",
       "      <th>2</th>\n",
       "      <td>2011</td>\n",
       "      <td>1.324598e+12</td>\n",
       "      <td>4.9</td>\n",
       "      <td>0</td>\n",
       "      <td>0</td>\n",
       "      <td>0</td>\n",
       "      <td>0</td>\n",
       "      <td>0</td>\n",
       "      <td>0</td>\n",
       "      <td>0</td>\n",
       "      <td>...</td>\n",
       "      <td>0</td>\n",
       "      <td>0</td>\n",
       "      <td>1</td>\n",
       "      <td>0</td>\n",
       "      <td>0</td>\n",
       "      <td>0</td>\n",
       "      <td>0</td>\n",
       "      <td>0</td>\n",
       "      <td>0</td>\n",
       "      <td>0</td>\n",
       "    </tr>\n",
       "    <tr>\n",
       "      <th>3</th>\n",
       "      <td>2010</td>\n",
       "      <td>1.305245e+12</td>\n",
       "      <td>4.9</td>\n",
       "      <td>3</td>\n",
       "      <td>0</td>\n",
       "      <td>0</td>\n",
       "      <td>0</td>\n",
       "      <td>0</td>\n",
       "      <td>0</td>\n",
       "      <td>0</td>\n",
       "      <td>...</td>\n",
       "      <td>0</td>\n",
       "      <td>0</td>\n",
       "      <td>0</td>\n",
       "      <td>0</td>\n",
       "      <td>0</td>\n",
       "      <td>0</td>\n",
       "      <td>0</td>\n",
       "      <td>0</td>\n",
       "      <td>0</td>\n",
       "      <td>0</td>\n",
       "    </tr>\n",
       "    <tr>\n",
       "      <th>4</th>\n",
       "      <td>2008</td>\n",
       "      <td>1.207613e+12</td>\n",
       "      <td>4.9</td>\n",
       "      <td>0</td>\n",
       "      <td>0</td>\n",
       "      <td>0</td>\n",
       "      <td>0</td>\n",
       "      <td>0</td>\n",
       "      <td>0</td>\n",
       "      <td>0</td>\n",
       "      <td>...</td>\n",
       "      <td>0</td>\n",
       "      <td>0</td>\n",
       "      <td>1</td>\n",
       "      <td>0</td>\n",
       "      <td>0</td>\n",
       "      <td>0</td>\n",
       "      <td>0</td>\n",
       "      <td>0</td>\n",
       "      <td>0</td>\n",
       "      <td>0</td>\n",
       "    </tr>\n",
       "  </tbody>\n",
       "</table>\n",
       "<p>5 rows × 130 columns</p>\n",
       "</div>"
      ],
      "text/plain": [
       "   date of production      premiere  rating  \\\n",
       "0                2009  1.250813e+12     4.9   \n",
       "1                2009  1.236298e+12     4.9   \n",
       "2                2011  1.324598e+12     4.9   \n",
       "3                2010  1.305245e+12     4.9   \n",
       "4                2008  1.207613e+12     4.9   \n",
       "\n",
       "   num of famous actors and actresses  num of famous directors  \\\n",
       "0                                   1                        0   \n",
       "1                                   0                        0   \n",
       "2                                   0                        0   \n",
       "3                                   3                        0   \n",
       "4                                   0                        0   \n",
       "\n",
       "   num of famous screenwriters  Akcja  Animacja  Animacja dla dorosłych  \\\n",
       "0                            0      0         0                       0   \n",
       "1                            0      0         0                       0   \n",
       "2                            0      0         0                       0   \n",
       "3                            0      0         0                       0   \n",
       "4                            0      0         0                       0   \n",
       "\n",
       "   Anime  ...  prod_Tunezja  prod_Turcja  prod_USA  prod_Wenezuela  \\\n",
       "0      0  ...             0            0         0               0   \n",
       "1      0  ...             0            0         0               0   \n",
       "2      0  ...             0            0         1               0   \n",
       "3      0  ...             0            0         0               0   \n",
       "4      0  ...             0            0         1               0   \n",
       "\n",
       "   prod_Wielka Brytania  prod_Węgry  prod_Włochy  prod_ZSRR  \\\n",
       "0                     0           0            0          0   \n",
       "1                     0           0            0          0   \n",
       "2                     0           0            0          0   \n",
       "3                     0           0            0          0   \n",
       "4                     0           0            0          0   \n",
       "\n",
       "   prod_Zjednoczone Emiraty Arabskie  prod_Łotwa  \n",
       "0                                  0           0  \n",
       "1                                  0           0  \n",
       "2                                  0           0  \n",
       "3                                  0           0  \n",
       "4                                  0           0  \n",
       "\n",
       "[5 rows x 130 columns]"
      ]
     },
     "execution_count": 91,
     "metadata": {},
     "output_type": "execute_result"
    }
   ],
   "source": [
    "movies_info.head()"
   ]
  },
  {
   "cell_type": "code",
   "execution_count": 8,
   "metadata": {
    "scrolled": true
   },
   "outputs": [
    {
     "name": "stdout",
     "output_type": "stream",
     "text": [
      "mean RMSE:1.2788132579502391\n"
     ]
    }
   ],
   "source": [
    "from sklearn import metrics\n",
    "from sklearn import svm\n",
    "import numpy as np\n",
    "from sklearn.model_selection import train_test_split\n",
    "\n",
    "x=movies_info.drop(['rating', 'premiere'],axis=1)\n",
    "y=movies_info['rating']\n",
    "x_train,x_test,y_train,y_test=train_test_split(x,y,test_size=0.3)\n",
    "\n",
    "regr = svm.SVR()\n",
    "regr.fit(x_train,y_train)\n",
    "pred=regr.predict(x_test)\n",
    "\n",
    "rmse = np.sqrt(metrics.mean_squared_error(y_test, pred))\n",
    "                \n",
    "print('mean RMSE:{}'.format(rmse))"
   ]
  },
  {
   "cell_type": "code",
   "execution_count": 13,
   "metadata": {
    "tags": []
   },
   "outputs": [
    {
     "data": {
      "text/plain": [
       "GridSearchCV(estimator=SVR(),\n",
       "             param_grid={'C': [0.001, 0.01, 0.1, 1, 10, 100, 1000],\n",
       "                         'epsilon': [0.001, 0.01, 0.1, 1, 10, 100, 1000]})"
      ]
     },
     "execution_count": 13,
     "metadata": {},
     "output_type": "execute_result"
    }
   ],
   "source": [
    "from sklearn.model_selection import GridSearchCV\n",
    "param={'C':[0.001,0.01,0.1,1,10,100,1000],'epsilon':[0.001,0.01,0.1,1,10,100,1000]}\n",
    "grid = GridSearchCV(svm.SVR(), param, refit=True, verbose=0)\n",
    "grid.fit(x_train,y_train)"
   ]
  },
  {
   "cell_type": "code",
   "execution_count": 115,
   "metadata": {},
   "outputs": [
    {
     "data": {
      "text/plain": [
       "{'C': 1000, 'epsilon': 0.1}"
      ]
     },
     "execution_count": 115,
     "metadata": {},
     "output_type": "execute_result"
    }
   ],
   "source": [
    "grid.best_params_"
   ]
  },
  {
   "cell_type": "code",
   "execution_count": 104,
   "metadata": {},
   "outputs": [
    {
     "name": "stdout",
     "output_type": "stream",
     "text": [
      "RMSE: 1.0143017042461646\n"
     ]
    }
   ],
   "source": [
    "pred=grid.predict(x_test)\n",
    "print('RMSE:', np.sqrt(metrics.mean_squared_error(y_test, pred)))"
   ]
  },
  {
   "cell_type": "markdown",
   "metadata": {
    "jp-MarkdownHeadingCollapsed": true,
    "tags": []
   },
   "source": [
    "## Classification with Logistic Regression"
   ]
  },
  {
   "cell_type": "markdown",
   "metadata": {},
   "source": [
    "Now let's try classification models. In order to do that, we will round up rating values such that their type is int."
   ]
  },
  {
   "cell_type": "code",
   "execution_count": 14,
   "metadata": {},
   "outputs": [],
   "source": [
    "movies_info['rating'] = movies_info.rating.apply(lambda x: round(x))"
   ]
  },
  {
   "cell_type": "code",
   "execution_count": 15,
   "metadata": {},
   "outputs": [
    {
     "data": {
      "text/plain": [
       "8    353\n",
       "7    200\n",
       "6    200\n",
       "5     92\n",
       "4     52\n",
       "9      5\n",
       "Name: rating, dtype: int64"
      ]
     },
     "execution_count": 15,
     "metadata": {},
     "output_type": "execute_result"
    }
   ],
   "source": [
    "movies_info['rating'].value_counts()"
   ]
  },
  {
   "cell_type": "code",
   "execution_count": 18,
   "metadata": {},
   "outputs": [],
   "source": [
    "x=movies_info.drop(['rating', 'premiere'],axis=1)\n",
    "y=movies_info['rating']\n",
    "\n",
    "from sklearn.model_selection import train_test_split\n",
    "from sklearn.metrics import confusion_matrix, classification_report\n",
    "x_train,x_test,y_train,y_test=train_test_split(x,y, test_size=0.3)"
   ]
  },
  {
   "cell_type": "code",
   "execution_count": 25,
   "metadata": {},
   "outputs": [
    {
     "name": "stdout",
     "output_type": "stream",
     "text": [
      "[[ 1  5  7  1  2  0]\n",
      " [ 2  4  9  5  3  0]\n",
      " [ 6  4 34  9  7  0]\n",
      " [ 2  5  8 24 18  0]\n",
      " [ 1  0  6 14 92  2]\n",
      " [ 0  0  0  0  0  0]]\n",
      "              precision    recall  f1-score   support\n",
      "\n",
      "           4       0.08      0.06      0.07        16\n",
      "           5       0.22      0.17      0.20        23\n",
      "           6       0.53      0.57      0.55        60\n",
      "           7       0.45      0.42      0.44        57\n",
      "           8       0.75      0.80      0.78       115\n",
      "           9       0.00      0.00      0.00         0\n",
      "\n",
      "    accuracy                           0.57       271\n",
      "   macro avg       0.34      0.34      0.34       271\n",
      "weighted avg       0.56      0.57      0.56       271\n",
      "\n"
     ]
    },
    {
     "name": "stderr",
     "output_type": "stream",
     "text": [
      "c:\\python\\python37\\lib\\site-packages\\sklearn\\metrics\\_classification.py:1221: UndefinedMetricWarning: Recall and F-score are ill-defined and being set to 0.0 in labels with no true samples. Use `zero_division` parameter to control this behavior.\n",
      "  _warn_prf(average, modifier, msg_start, len(result))\n"
     ]
    }
   ],
   "source": [
    "from sklearn.tree import DecisionTreeClassifier\n",
    "model=DecisionTreeClassifier()\n",
    "model.fit(x_train,y_train)\n",
    "pred=model.predict(x_test)\n",
    "\n",
    "print(confusion_matrix(y_test,pred))\n",
    "print(classification_report(y_test,pred))"
   ]
  },
  {
   "cell_type": "code",
   "execution_count": null,
   "metadata": {},
   "outputs": [],
   "source": []
  }
 ],
 "metadata": {
  "kernelspec": {
   "display_name": "Python 3 (ipykernel)",
   "language": "python",
   "name": "python3"
  },
  "language_info": {
   "codemirror_mode": {
    "name": "ipython",
    "version": 3
   },
   "file_extension": ".py",
   "mimetype": "text/x-python",
   "name": "python",
   "nbconvert_exporter": "python",
   "pygments_lexer": "ipython3",
   "version": "3.7.9"
  }
 },
 "nbformat": 4,
 "nbformat_minor": 4
}
